{
 "metadata": {
  "language_info": {
   "codemirror_mode": {
    "name": "ipython",
    "version": 3
   },
   "file_extension": ".py",
   "mimetype": "text/x-python",
   "name": "python",
   "nbconvert_exporter": "python",
   "pygments_lexer": "ipython3",
   "version": "3.6.9"
  },
  "orig_nbformat": 2,
  "kernelspec": {
   "name": "python369jvsc74a57bd031f2aee4e71d21fbe5cf8b01ff0e069b9275f58929596ceb00d14d90e3e16cd6",
   "display_name": "Python 3.6.9 64-bit"
  },
  "metadata": {
   "interpreter": {
    "hash": "31f2aee4e71d21fbe5cf8b01ff0e069b9275f58929596ceb00d14d90e3e16cd6"
   }
  }
 },
 "nbformat": 4,
 "nbformat_minor": 2,
 "cells": [
  {
   "cell_type": "code",
   "execution_count": null,
   "metadata": {},
   "outputs": [],
   "source": [
    "from Obstacle import *\n",
    "from Visualization import *\n",
    "import numpy as np\n",
    "import cv2\n",
    "\n",
    "import matplotlib.pyplot as plt\n",
    "import matplotlib.patches as patches\n",
    "\n",
    "from Utils.Node import *\n",
    "from Utils.MathUtils import *\n",
    "import math\n",
    "import queue\n",
    "\n",
    "import csv\n",
    "import random\n",
    "import copy"
   ]
  },
  {
   "cell_type": "code",
   "execution_count": null,
   "metadata": {},
   "outputs": [],
   "source": [
    "def getRandomNode():\n",
    "    state = [random.uniform(0, 9), random.uniform(0,9)]\n",
    "    return Node(state, None, None, None, None)"
   ]
  },
  {
   "cell_type": "code",
   "execution_count": null,
   "metadata": {},
   "outputs": [],
   "source": [
    "def getNearestNodeIndex(node_list, random_point):\n",
    "    distance = []\n",
    "    for node in node_list:\n",
    "        node_pts = node.getState()\n",
    "        d = ((node_pts[0] - random_point[0])**2 + (node_pts[1] - random_point[1])**2)**0.5\n",
    "        distance.append(d)\n",
    "    min_idx = distance.index(min(distance))\n",
    "\n",
    "    return min_idx"
   ]
  },
  {
   "cell_type": "code",
   "execution_count": null,
   "metadata": {},
   "outputs": [],
   "source": [
    "def calculate_d_and_theta(start, end):\n",
    "    dx = end[0] - start[0]\n",
    "    dy = end[1] - start[1]\n",
    "    d = math.hypot(dx, dy)\n",
    "    theta = math.atan2(dy, dx)\n",
    "    return d, theta"
   ]
  },
  {
   "cell_type": "code",
   "execution_count": null,
   "metadata": {},
   "outputs": [],
   "source": [
    "def getNewNode(nearest_node, random_point, sample_rate, obs):\n",
    "    nearest_point = nearest_node.getState()\n",
    "\n",
    "    if obs.isInObstacleSpace(nearest_point[0], nearest_point[1]):\n",
    "        print('Nearest point in OBSTACLE SPACE')\n",
    "    \n",
    "    new_node  = Node(nearest_point, nearest_node, None, None, [])\n",
    "    distance, theta = calculate_d_and_theta(new_node.getState(), random_point)\n",
    "\n",
    "    if distance < sample_rate:\n",
    "        sample_rate = distance\n",
    "    # generate the intermediatary path points\n",
    "    n_states = math.floor(sample_rate/0.5)\n",
    "    new_node.pathArray.append(new_node.getState())\n",
    "\n",
    "    x = new_node.state[0]\n",
    "    y = new_node.state[1]\n",
    "    for i in range(n_states):\n",
    "        x += 0.5*math.cos(theta)\n",
    "        y += 0.5*math.sin(theta)\n",
    "        if obs.isInObstacleSpace(x, y):\n",
    "            #return None\n",
    "            break\n",
    "        new_node.pathArray.append([x, y])\n",
    "        new_node.state = [x,y]\n",
    "\n",
    "    #if the new node is inside path resolution of random node, consider random node as end of new node\n",
    "    # distance, theta = calculate_d_and_theta(new_node.getState(), random_point)\n",
    "    # if distance <= 0.5:\n",
    "    #     new_node.pathArray.append(random_point)\n",
    "    #     new_node.state = random_point\n",
    "    \n",
    "    #set the new cost\n",
    "    new_node.cost = nearest_node.getCost() + sample_rate\n",
    "\n",
    "    return new_node\n"
   ]
  },
  {
   "cell_type": "code",
   "execution_count": null,
   "metadata": {},
   "outputs": [],
   "source": [
    "def visualize(viz, traversed_nodes, goal_node, obs):\n",
    "    fig, ax = plt.subplots(figsize = (10, 10))\n",
    "    ax.set(xlim=(0, 10), ylim = (0,10))\n",
    "    ax = viz.addObstacles2Map(ax)\n",
    "    ax.set_aspect(\"equal\")\n",
    "    c = 0\n",
    "    print(len(traversed_nodes))\n",
    "    for node in traversed_nodes:\n",
    "        xi, yi = node.getState()\n",
    "        points = node.getPathArray()\n",
    "        if points is not None:\n",
    "            for point in points:\n",
    "                xn, yn = point\n",
    "                ax.plot([xi, xn], [yi, yn], color=\"blue\", linewidth = 0.3)\n",
    "                xi, yi = xn, yn\n",
    "    \n",
    "    current_node = copy.copy(goal_node)\n",
    "    nodes = []\n",
    "    while(current_node.getParent() is not None):\n",
    "        nodes.append(current_node)\n",
    "        current_node = current_node.getParent()\n",
    "    nodes.append(current_node)\n",
    "    nodes.reverse()\n",
    "\n",
    "    for node in nodes:\n",
    "        xi, yi = node.getState()\n",
    "        ax.scatter(xi, yi)\n",
    "        points = node.getPathArray()\n",
    "        if points is not None:\n",
    "            for point in points:\n",
    "                xn, yn = point\n",
    "                if obs.isInObstacleSpace(xn, yn):\n",
    "                    print('In obstacle space')\n",
    "                ax.plot([xi, xn], [yi, yn], color=\"green\", linewidth = 2)\n",
    "                xi, yi = xn, yn\n",
    "    return nodes\n"
   ]
  },
  {
   "cell_type": "code",
   "execution_count": null,
   "metadata": {
    "tags": []
   },
   "outputs": [],
   "source": [
    "height, width = 10, 10\n",
    "path_resolution, threshold = 0.5, 0.5\n",
    "sample_rate = 1\n",
    "rand_map = [width-1, height-1]\n",
    "start_point = [0,0]\n",
    "goal_state = [9,9]\n",
    "obs = Obstacle(0.0)\n",
    "viz = Visualization(obs)\n",
    "\n",
    "node_array = np.array([[[math.inf for k in range(360)] for j in range(int(height/threshold))] for i in range(int(width/threshold))])\n",
    "\n",
    "goal_reached = False\n",
    "start_node = Node(start_point, None, None, 0, [])\n",
    "goal_node = Node(goal_state, None, None, math.inf, [])\n",
    "final_node = None\n",
    "node_list = [start_node]\n",
    "\n",
    "for i in range(1000):\n",
    "    random_node = getRandomNode()\n",
    "    if (random_node == None):\n",
    "        continue\n",
    "    nearest_idx = getNearestNodeIndex(node_list, random_node.getState())\n",
    "    nearest_node = node_list[nearest_idx]\n",
    "    nearest_point = nearest_node.getState()\n",
    "\n",
    "    new_node = getNewNode(nearest_node, random_node.getState(), sample_rate, obs)\n",
    "    if (new_node == None):\n",
    "        continue\n",
    "    \n",
    "    if not obs.isInObstacleSpace(new_node.getState()[0], new_node.getState()[1]):\n",
    "        node_list.append(new_node)\n",
    "        x_new = int(halfRound(new_node.getState()[0])/threshold)\n",
    "        y_new = int(halfRound(new_node.getState()[1])/threshold)\n",
    "        d_goal = ((node_list[-1].getState()[0]- goal_state[0])**2 + (node_list[-1].getState()[1]- goal_state[1])**2)**0.5\n",
    "\n",
    "        # if (new_node.getCost() < node_array[x_new,y_new,0]):\n",
    "        #     node_array[x_new,y_new,0] = new_node.getCost() \n",
    "\n",
    "        if (d_goal <= 0.5):\n",
    "            # final_node = getNewNode(node_list[-1], goal_state, sample_rate, obs)\n",
    "            print('Final node get state = ',new_node.getState())\n",
    "            if not obs.isInObstacleSpace(new_node.getState()[0], new_node.getState()[1]):\n",
    "                print('Goal Reached, cost = ', new_node.getCost())\n",
    "                x_goal = int(halfRound(goal_node.getState()[0])/threshold)\n",
    "                y_goal = int(halfRound(goal_node.getState()[1])/threshold)\n",
    "                print(node_array[x_goal, y_goal, 0])\n",
    "                if (new_node.getCost() <  node_array[x_goal, y_goal, 0]):\n",
    "                    print('Update final node cost, state = ', x_goal, ', ',y_goal)\n",
    "                    print('from: ', node_array[x_goal, y_goal, 0], ' to :', new_node.getCost())\n",
    "                    node_array[x_goal,y_goal,0] = new_node.getCost() \n",
    "                    goal_node_final = new_node\n",
    "                    #node_list.append(goal_node)\n",
    "                    #break\n",
    "                print('------------------------')\n",
    "                "
   ]
  },
  {
   "cell_type": "code",
   "execution_count": null,
   "metadata": {},
   "outputs": [],
   "source": [
    "node_list.append(goal_node_final)\n",
    "nodes = visualize(viz, node_list, goal_node_, obs)"
   ]
  },
  {
   "cell_type": "code",
   "execution_count": null,
   "metadata": {},
   "outputs": [],
   "source": []
  }
 ]
}