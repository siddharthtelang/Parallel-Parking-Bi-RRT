{
 "metadata": {
  "language_info": {
   "codemirror_mode": {
    "name": "ipython",
    "version": 3
   },
   "file_extension": ".py",
   "mimetype": "text/x-python",
   "name": "python",
   "nbconvert_exporter": "python",
   "pygments_lexer": "ipython3",
   "version": "3.6.9"
  },
  "orig_nbformat": 2,
  "kernelspec": {
   "name": "python369jvsc74a57bd031f2aee4e71d21fbe5cf8b01ff0e069b9275f58929596ceb00d14d90e3e16cd6",
   "display_name": "Python 3.6.9 64-bit"
  },
  "metadata": {
   "interpreter": {
    "hash": "31f2aee4e71d21fbe5cf8b01ff0e069b9275f58929596ceb00d14d90e3e16cd6"
   }
  }
 },
 "nbformat": 4,
 "nbformat_minor": 2,
 "cells": [
  {
   "cell_type": "code",
   "execution_count": 1,
   "metadata": {},
   "outputs": [],
   "source": [
    "from Obstacle import *\n",
    "from Visualization import *\n",
    "import numpy as np\n",
    "import cv2\n",
    "import matplotlib.pyplot as plt\n",
    "import matplotlib.patches as patches\n",
    "from Utils.Node import *\n",
    "import math\n",
    "import queue\n",
    "import random\n",
    "import copy\n",
    "\n",
    "wheel_radius = 0.038\n",
    "wheel_distance = 0.354"
   ]
  },
  {
   "cell_type": "code",
   "execution_count": 2,
   "metadata": {},
   "outputs": [],
   "source": [
    "def halfRound(n):\n",
    "    return round(2*n)/2\n",
    "def toRadian(angle):\n",
    "    return np.pi * angle / 180\n",
    "def toDegree(angle):\n",
    "    return 180 * angle / np.pi"
   ]
  },
  {
   "cell_type": "code",
   "execution_count": 15,
   "metadata": {},
   "outputs": [],
   "source": [
    "def visualize(viz, traversed_nodes, destination, goal_node, obs, show_pass):\n",
    "    fig, ax = plt.subplots(figsize = (10, 10))\n",
    "    ax.set(xlim=(0, 10), ylim = (0,10))\n",
    "    ax = viz.addObstacles2Map(ax)\n",
    "    ax.set_aspect(\"equal\")\n",
    "    c = 0\n",
    "    print(len(traversed_nodes))\n",
    "    if show_pass:\n",
    "        for node in traversed_nodes:\n",
    "            start_node  = node.getParent()\n",
    "            if start_node is not None:\n",
    "                xi, yi, _, _ = start_node.getState()\n",
    "                points = node.getPathArray()\n",
    "                if points is not None:\n",
    "                    for point in points:\n",
    "                        xn, yn = point\n",
    "                        ax.plot([xi, xn], [yi, yn], color=\"blue\", linewidth = 0.3)\n",
    "                        xi, yi = xn, yn\n",
    "\n",
    "    # i = 0\n",
    "    # y = goal_node.getState()[1]\n",
    "    # y_ = goal_node.getState()[1]\n",
    "    # ax.scatter(goal_node.getState()[0], y)\n",
    "    # theta = toRadian(goal_node.getState()[2])\n",
    "    # while(i<10):\n",
    "    #     if goal_node.getState()[2] % 90 == 0:\n",
    "    #         x = goal_node.getState()[0]\n",
    "    #     else:\n",
    "    #         x = y/math.tan(theta)\n",
    "    #     i+=1\n",
    "    #     y+=0.1\n",
    "    #     y_-=0.1\n",
    "    #     ax.scatter(x,y)\n",
    "    #     ax.scatter(x,y_)\n",
    "\n",
    "    x, y = goal_node.getState()[:2]\n",
    "    x_, y_ = goal_node.getState()[:2]\n",
    "    theta = toRadian(goal_node.getState()[2])\n",
    "    ax.scatter(x,y)\n",
    "    for i in range(10):\n",
    "        x = x + 0.05*x*math.cos(theta)\n",
    "        y = y + 0.05*y*math.sin(theta)\n",
    "        x_ = x_ - 0.05*x_*math.cos(theta)\n",
    "        y_ = y_ - 0.05*y_*math.sin(theta)\n",
    "        ax.scatter(x,y)\n",
    "        ax.scatter(x_,y_)\n",
    "\n",
    "\n",
    "    current_node = copy.copy(destination)\n",
    "    nodes = []\n",
    "    while(current_node.getParent() is not None):\n",
    "        nodes.append(current_node)\n",
    "        current_node = current_node.getParent()\n",
    "    nodes.append(current_node)\n",
    "    nodes.reverse()\n",
    "\n",
    "    for node in nodes:\n",
    "        start_node  = node.getParent()\n",
    "        \n",
    "        if start_node is not None:\n",
    "            xi, yi, _, _ = start_node.getState()\n",
    "            points = node.getPathArray()\n",
    "            if points is not None:\n",
    "                for point in points:\n",
    "                    xn, yn = point[:2]                  \n",
    "                    ax.plot([xi, xn], [yi, yn], color=\"green\", linewidth = 2)\n",
    "                    xi, yi = xn, yn\n",
    "    a = str(random.uniform(1,1000))\n",
    "    plt.savefig(a + '.png')\n",
    "    return nodes\n"
   ]
  },
  {
   "cell_type": "code",
   "execution_count": 4,
   "metadata": {},
   "outputs": [],
   "source": [
    "def getBranches(node, T, u_linear, u_steer1, u_steer2, obs):\n",
    "    actions=[[u_linear, 0], [u_linear, u_steer1], [u_linear, -u_steer1], [u_linear, u_steer2], [u_linear, -u_steer2],[-u_linear, 0], [-u_linear, u_steer1], [-u_linear, -u_steer1], [-u_linear, u_steer2], [-u_linear, -u_steer2]]\n",
    "    state = node.getState()\n",
    "    branches = []\n",
    "\n",
    "    for action in actions:\n",
    "        new_state, path_array, cost = move(state, action, T, obs)\n",
    "        if new_state is not None:\n",
    "            branch_node = Node(new_state, node, action, node.getCost() + cost, path_array)\n",
    "            branches.append(branch_node)\n",
    "              \n",
    "    return branches"
   ]
  },
  {
   "cell_type": "code",
   "execution_count": 5,
   "metadata": {},
   "outputs": [],
   "source": [
    "def isOnSpot(current, final):\n",
    "    x_current, y_current, theta_current = current.getState()[:3]\n",
    "    x_goal, y_goal, theta_goal = final.getState()[:3]\n",
    "\n",
    "    theta_goal = toRadian(theta_goal)\n",
    "    theta_current = toRadian(theta_current)\n",
    "    \n",
    "    m  = math.tan(theta_goal)\n",
    "    if abs(theta_goal) == 90 or abs(theta_goal) == 270:\n",
    "        c = 0\n",
    "    else:\n",
    "        c = y_goal - x_goal*m\n",
    "    error = y_current - x_current*math.tan(theta_goal) - c\n",
    "\n",
    "    if (abs(theta_goal) > 265 and abs(theta_goal) < 275) or (abs(theta_goal) > 85 and abs(theta_goal) < 95):\n",
    "        error = x_current - x_goal\n",
    "    d, _ = calculate_d_and_theta(current.getState(), final.getState())\n",
    "    # print(d)\n",
    "    # print(error)\n",
    "    # print(_)\n",
    "    return (abs(error) < 0.5 and d < 0.5)"
   ]
  },
  {
   "cell_type": "code",
   "execution_count": 6,
   "metadata": {},
   "outputs": [],
   "source": [
    "def move(state, action, T, obs):\n",
    "    t = 0\n",
    "    dt = 0.1\n",
    "    \n",
    "    Xi, Yi, thetai, steeri = state\n",
    "    thetai = toRadian(thetai)\n",
    "    steeri = toRadian(steeri)\n",
    "\n",
    "    u_linear, u_steer = action \n",
    "\n",
    "    Xn = Xi\n",
    "    Yn = Yi\n",
    "    thetan = thetai\n",
    "    steern = steeri\n",
    "\n",
    "    path_array = []\n",
    "    cost = 0.0\n",
    "    path_array.append([Xn, Yn])\n",
    "    a = 1\n",
    "    while t<T:\n",
    "        t = t + dt\n",
    "        steern += dt * u_steer\n",
    "        if steern > np.pi / 4:\n",
    "            steern = np.pi / 4\n",
    "        if steern < -np.pi / 4:\n",
    "            steern = -np.pi / 4\n",
    "\n",
    "        thetan += (np.tan(steern) / a ) * u_linear * dt\n",
    "        dx = u_linear * math.cos(thetan) * dt\n",
    "        dy = u_linear * math.sin(thetan) * dt\n",
    "\n",
    "        Xn += dx\n",
    "        Yn += dy\n",
    "\n",
    "        cost += math.sqrt(math.pow(dx,2) + math.pow(dy,2))\n",
    "        path_array.append([Xn, Yn])\n",
    "\n",
    "        if obs.isInObstacleSpace(Xn, Yn):\n",
    "            return None, None, None\n",
    "        \n",
    "    thetan = int(toDegree(thetan))\n",
    "    steern = int(toDegree(steern))\n",
    "    return [Xn, Yn, thetan, steern] , path_array, cost"
   ]
  },
  {
   "cell_type": "code",
   "execution_count": 7,
   "metadata": {},
   "outputs": [],
   "source": [
    "def getRandomNode():\n",
    "    a = random.uniform(-np.pi, np.pi)\n",
    "    # print(a)\n",
    "    state = [random.uniform(0, 9), random.uniform(0,9), random.uniform(0, 360), 0]\n",
    "    return Node(state, None, None, None, None)\n",
    "\n",
    "def getNearestNodeIndex(node_list, random_point):\n",
    "    distance = []\n",
    "    # print(random_point)\n",
    "    for node in node_list:\n",
    "        node_pts = node.getState()\n",
    "        alpha = 0.2\n",
    "        d = (((node_pts[0] - random_point[0])**2 + (node_pts[1] - random_point[1])**2) + alpha *(np.abs(node_pts[2] - random_point[2]))) ** 0.5\n",
    "        distance.append(d)\n",
    "    min_idx = distance.index(min(distance))\n",
    "\n",
    "    return min_idx\n",
    "\n",
    "def calculate_d_and_theta(start, end):\n",
    "    dx = end[0] - start[0]\n",
    "    dy = end[1] - start[1]\n",
    "    d = math.hypot(dx, dy)\n",
    "    theta = math.atan2(dy, dx)\n",
    "    return d, theta\n",
    "\n",
    "def getNewNode(nearest_node, random_point, obs):\n",
    "    T = 1\n",
    "    u_linear = 1\n",
    "    u_steer1 = 0.2\n",
    "    u_steer2 = 0.5\n",
    "    sample_distance = 0.25\n",
    "\n",
    "    nearest_point = nearest_node.getState()\n",
    "\n",
    "    if obs.isInObstacleSpace(nearest_point[0], nearest_point[1]):\n",
    "        print('Nearest point in OBSTACLE SPACE')\n",
    "    \n",
    "    _, theta = calculate_d_and_theta(nearest_point, random_point)\n",
    "    ref_state = [sample_distance*math.cos(theta), sample_distance*math.sin(theta), random_point[2], 0]\n",
    "\n",
    "    branches = getBranches(nearest_node, T, u_linear, u_steer1, u_steer2, obs)\n",
    "    if (len(branches) > 0):\n",
    "        branch_idx = getNearestNodeIndex(branches, ref_state)\n",
    "        new_node = branches[branch_idx]\n",
    "    else:\n",
    "        new_node = None\n",
    "\n",
    "    return new_node\n"
   ]
  },
  {
   "cell_type": "code",
   "execution_count": null,
   "metadata": {},
   "outputs": [],
   "source": []
  },
  {
   "cell_type": "code",
   "execution_count": 26,
   "metadata": {
    "tags": []
   },
   "outputs": [],
   "source": [
    "height, width = 10, 10\n",
    "T = 1\n",
    "dt = 0.1\n",
    "threshold = 0.5\n",
    "rand_map = [width-1, height-1]\n",
    "#start_point = [9,9,180,0]\n",
    "#start_point = [8,6,180,0]\n",
    "start_point = [8,6,0,0]\n",
    "#start_point = [8,2,90,0]\n",
    "#start_point = [9,7,90,0]\n",
    "#start_point = [1,5,180,0]\n",
    "#goal_state = [4.5,2,90,0]\n",
    "#goal_state = [4.5,2,270,0]\n",
    "goal_state = [8,2,90,0]\n",
    "obs = Obstacle(0.0)\n",
    "viz = Visualization(obs)\n",
    "\n",
    "node_array = np.array([[[math.inf for k in range(360)] for j in range(int(height/threshold))] for i in range(int(width/threshold))])\n",
    "\n",
    "goal_reached = False\n",
    "start_node = Node(start_point, None, None, 0, [])\n",
    "goal_node = Node(goal_state, None, None, math.inf, [])\n",
    "final_node = None\n",
    "node_list = [start_node]\n",
    "goal_node_final = None\n",
    "destination = None\n",
    "\n",
    "for i in range(5000):\n",
    "    random_node = getRandomNode()\n",
    "    if (random_node == None):\n",
    "        continue\n",
    "    # ax.scatter(random_node.getState()[0], random_node.getState()[1])\n",
    "    nearest_idx = getNearestNodeIndex(node_list, random_node.getState())\n",
    "    nearest_node = node_list[nearest_idx]\n",
    "\n",
    "    new_node = getNewNode(nearest_node, random_node.getState(), obs)\n",
    "    if (new_node == None):\n",
    "        continue\n",
    "\n",
    "    node_list.append(new_node)\n",
    "    x_new = int(halfRound(new_node.getState()[0])/threshold)\n",
    "    y_new = int(halfRound(new_node.getState()[1])/threshold)\n",
    "    d_goal = ((node_list[-1].getState()[0]- goal_state[0])**2 + (node_list[-1].getState()[1]- goal_state[1])**2)**0.5 \n",
    "    d_angle = np.abs((node_list[-1].getState()[2]- goal_state[2]))\n",
    "\n",
    "    is_on_spot = isOnSpot(node_list[-1], goal_node) \n",
    "    if (is_on_spot and d_angle < 5):\n",
    "        print('Final node get state = ',new_node.getState())\n",
    "        if not obs.isInObstacleSpace(new_node.getState()[0], new_node.getState()[1]):\n",
    "            print('Goal Reached, cost = ', new_node.getCost())\n",
    "            x_goal = int(halfRound(goal_node.getState()[0])/threshold)\n",
    "            y_goal = int(halfRound(goal_node.getState()[1])/threshold)\n",
    "            print(node_array[x_goal, y_goal, 0])\n",
    "            if (new_node.getCost() <  node_array[x_goal, y_goal, 0]):\n",
    "                print('Update final node cost, state = ', x_goal, ', ',y_goal)\n",
    "                print('from: ', node_array[x_goal, y_goal, 0], ' to :', new_node.getCost())\n",
    "                node_array[x_goal,y_goal,0] = new_node.getCost() \n",
    "                goal_node_final = new_node\n",
    "            print('------------------------')\n",
    "\n",
    "# steer to goal\n",
    "if goal_node_final is not None:\n",
    "    node_list.append(goal_node_final)\n",
    "    destination = getNewNode(goal_node_final, goal_node.getState(), obs)\n",
    "    node_list.append(destination)"
   ]
  },
  {
   "cell_type": "code",
   "execution_count": 23,
   "metadata": {},
   "outputs": [
    {
     "output_type": "stream",
     "name": "stdout",
     "text": [
      "5003\n"
     ]
    },
    {
     "output_type": "display_data",
     "data": {
      "text/plain": "<Figure size 720x720 with 1 Axes>",
      "image/svg+xml": "<?xml version=\"1.0\" encoding=\"utf-8\" standalone=\"no\"?>\n<!DOCTYPE svg PUBLIC \"-//W3C//DTD SVG 1.1//EN\"\n  \"http://www.w3.org/Graphics/SVG/1.1/DTD/svg11.dtd\">\n<!-- Created with matplotlib (https://matplotlib.org/) -->\n<svg height=\"578.477344pt\" version=\"1.1\" viewBox=\"0 0 584.0875 578.477344\" width=\"584.0875pt\" xmlns=\"http://www.w3.org/2000/svg\" xmlns:xlink=\"http://www.w3.org/1999/xlink\">\n <metadata>\n  <rdf:RDF xmlns:cc=\"http://creativecommons.org/ns#\" xmlns:dc=\"http://purl.org/dc/elements/1.1/\" xmlns:rdf=\"http://www.w3.org/1999/02/22-rdf-syntax-ns#\">\n   <cc:Work>\n    <dc:type rdf:resource=\"http://purl.org/dc/dcmitype/StillImage\"/>\n    <dc:date>2021-05-03T22:53:15.381542</dc:date>\n    <dc:format>image/svg+xml</dc:format>\n    <dc:creator>\n     <cc:Agent>\n      <dc:title>Matplotlib v3.3.3, https://matplotlib.org/</dc:title>\n     </cc:Agent>\n    </dc:creator>\n   </cc:Work>\n  </rdf:RDF>\n </metadata>\n <defs>\n  <style type=\"text/css\">*{stroke-linecap:butt;stroke-linejoin:round;}</style>\n </defs>\n <g id=\"figure_1\">\n  <g id=\"patch_1\">\n   <path d=\"M 0 578.477344 \nL 584.0875 578.477344 \nL 584.0875 0 \nL 0 0 \nz\n\" style=\"fill:none;\"/>\n  </g>\n  <g id=\"axes_1\">\n   <g id=\"patch_2\">\n    <path d=\"M 26.925 554.599219 \nL 570.525 554.599219 \nL 570.525 10.999219 \nL 26.925 10.999219 \nz\n\" style=\"fill:#ffffff;\"/>\n   </g>\n   <g id=\"PathCollection_1\">\n    <defs>\n     <path d=\"M 0 3 \nC 0.795609 3 1.55874 2.683901 2.12132 2.12132 \nC 2.683901 1.55874 3 0.795609 3 0 \nC 3 -0.795609 2.683901 -1.55874 2.12132 -2.12132 \nC 1.55874 -2.683901 0.795609 -3 0 -3 \nC -0.795609 -3 -1.55874 -2.683901 -2.12132 -2.12132 \nC -2.683901 -1.55874 -3 -0.795609 -3 0 \nC -3 0.795609 -2.683901 1.55874 -2.12132 2.12132 \nC -1.55874 2.683901 -0.795609 3 0 3 \nz\n\" id=\"m1c62ba1ddd\" style=\"stroke:#1f77b4;\"/>\n    </defs>\n    <g clip-path=\"url(#p4970bb0ebd)\">\n     <use style=\"fill:#1f77b4;stroke:#1f77b4;\" x=\"135.645\" xlink:href=\"#m1c62ba1ddd\" y=\"309.979219\"/>\n    </g>\n   </g>\n   <g id=\"PathCollection_2\">\n    <defs>\n     <path d=\"M 0 3 \nC 0.795609 3 1.55874 2.683901 2.12132 2.12132 \nC 2.683901 1.55874 3 0.795609 3 0 \nC 3 -0.795609 2.683901 -1.55874 2.12132 -2.12132 \nC 1.55874 -2.683901 0.795609 -3 0 -3 \nC -0.795609 -3 -1.55874 -2.683901 -2.12132 -2.12132 \nC -2.683901 -1.55874 -3 -0.795609 -3 0 \nC -3 0.795609 -2.683901 1.55874 -2.12132 2.12132 \nC -1.55874 2.683901 -0.795609 3 0 3 \nz\n\" id=\"ma7bc6694fa\" style=\"stroke:#ff7f0e;\"/>\n    </defs>\n    <g clip-path=\"url(#p4970bb0ebd)\">\n     <use style=\"fill:#ff7f0e;stroke:#ff7f0e;\" x=\"141.081\" xlink:href=\"#ma7bc6694fa\" y=\"309.979219\"/>\n    </g>\n   </g>\n   <g id=\"PathCollection_3\">\n    <defs>\n     <path d=\"M 0 3 \nC 0.795609 3 1.55874 2.683901 2.12132 2.12132 \nC 2.683901 1.55874 3 0.795609 3 0 \nC 3 -0.795609 2.683901 -1.55874 2.12132 -2.12132 \nC 1.55874 -2.683901 0.795609 -3 0 -3 \nC -0.795609 -3 -1.55874 -2.683901 -2.12132 -2.12132 \nC -2.683901 -1.55874 -3 -0.795609 -3 0 \nC -3 0.795609 -2.683901 1.55874 -2.12132 2.12132 \nC -1.55874 2.683901 -0.795609 3 0 3 \nz\n\" id=\"mf988f08418\" style=\"stroke:#2ca02c;\"/>\n    </defs>\n    <g clip-path=\"url(#p4970bb0ebd)\">\n     <use style=\"fill:#2ca02c;stroke:#2ca02c;\" x=\"130.209\" xlink:href=\"#mf988f08418\" y=\"309.979219\"/>\n    </g>\n   </g>\n   <g id=\"PathCollection_4\">\n    <defs>\n     <path d=\"M 0 3 \nC 0.795609 3 1.55874 2.683901 2.12132 2.12132 \nC 2.683901 1.55874 3 0.795609 3 0 \nC 3 -0.795609 2.683901 -1.55874 2.12132 -2.12132 \nC 1.55874 -2.683901 0.795609 -3 0 -3 \nC -0.795609 -3 -1.55874 -2.683901 -2.12132 -2.12132 \nC -2.683901 -1.55874 -3 -0.795609 -3 0 \nC -3 0.795609 -2.683901 1.55874 -2.12132 2.12132 \nC -1.55874 2.683901 -0.795609 3 0 3 \nz\n\" id=\"m2c6dd15b32\" style=\"stroke:#d62728;\"/>\n    </defs>\n    <g clip-path=\"url(#p4970bb0ebd)\">\n     <use style=\"fill:#d62728;stroke:#d62728;\" x=\"146.7888\" xlink:href=\"#m2c6dd15b32\" y=\"309.979219\"/>\n    </g>\n   </g>\n   <g id=\"PathCollection_5\">\n    <defs>\n     <path d=\"M 0 3 \nC 0.795609 3 1.55874 2.683901 2.12132 2.12132 \nC 2.683901 1.55874 3 0.795609 3 0 \nC 3 -0.795609 2.683901 -1.55874 2.12132 -2.12132 \nC 1.55874 -2.683901 0.795609 -3 0 -3 \nC -0.795609 -3 -1.55874 -2.683901 -2.12132 -2.12132 \nC -2.683901 -1.55874 -3 -0.795609 -3 0 \nC -3 0.795609 -2.683901 1.55874 -2.12132 2.12132 \nC -1.55874 2.683901 -0.795609 3 0 3 \nz\n\" id=\"mee7166a7b9\" style=\"stroke:#9467bd;\"/>\n    </defs>\n    <g clip-path=\"url(#p4970bb0ebd)\">\n     <use style=\"fill:#9467bd;stroke:#9467bd;\" x=\"125.0448\" xlink:href=\"#mee7166a7b9\" y=\"309.979219\"/>\n    </g>\n   </g>\n   <g id=\"PathCollection_6\">\n    <defs>\n     <path d=\"M 0 3 \nC 0.795609 3 1.55874 2.683901 2.12132 2.12132 \nC 2.683901 1.55874 3 0.795609 3 0 \nC 3 -0.795609 2.683901 -1.55874 2.12132 -2.12132 \nC 1.55874 -2.683901 0.795609 -3 0 -3 \nC -0.795609 -3 -1.55874 -2.683901 -2.12132 -2.12132 \nC -2.683901 -1.55874 -3 -0.795609 -3 0 \nC -3 0.795609 -2.683901 1.55874 -2.12132 2.12132 \nC -1.55874 2.683901 -0.795609 3 0 3 \nz\n\" id=\"mc2242cac16\" style=\"stroke:#8c564b;\"/>\n    </defs>\n    <g clip-path=\"url(#p4970bb0ebd)\">\n     <use style=\"fill:#8c564b;stroke:#8c564b;\" x=\"152.78199\" xlink:href=\"#mc2242cac16\" y=\"309.979219\"/>\n    </g>\n   </g>\n   <g id=\"PathCollection_7\">\n    <defs>\n     <path d=\"M 0 3 \nC 0.795609 3 1.55874 2.683901 2.12132 2.12132 \nC 2.683901 1.55874 3 0.795609 3 0 \nC 3 -0.795609 2.683901 -1.55874 2.12132 -2.12132 \nC 1.55874 -2.683901 0.795609 -3 0 -3 \nC -0.795609 -3 -1.55874 -2.683901 -2.12132 -2.12132 \nC -2.683901 -1.55874 -3 -0.795609 -3 0 \nC -3 0.795609 -2.683901 1.55874 -2.12132 2.12132 \nC -1.55874 2.683901 -0.795609 3 0 3 \nz\n\" id=\"mc13a049dc1\" style=\"stroke:#e377c2;\"/>\n    </defs>\n    <g clip-path=\"url(#p4970bb0ebd)\">\n     <use style=\"fill:#e377c2;stroke:#e377c2;\" x=\"120.13881\" xlink:href=\"#mc13a049dc1\" y=\"309.979219\"/>\n    </g>\n   </g>\n   <g id=\"PathCollection_8\">\n    <defs>\n     <path d=\"M 0 3 \nC 0.795609 3 1.55874 2.683901 2.12132 2.12132 \nC 2.683901 1.55874 3 0.795609 3 0 \nC 3 -0.795609 2.683901 -1.55874 2.12132 -2.12132 \nC 1.55874 -2.683901 0.795609 -3 0 -3 \nC -0.795609 -3 -1.55874 -2.683901 -2.12132 -2.12132 \nC -2.683901 -1.55874 -3 -0.795609 -3 0 \nC -3 0.795609 -2.683901 1.55874 -2.12132 2.12132 \nC -1.55874 2.683901 -0.795609 3 0 3 \nz\n\" id=\"mb25a268de5\" style=\"stroke:#7f7f7f;\"/>\n    </defs>\n    <g clip-path=\"url(#p4970bb0ebd)\">\n     <use style=\"fill:#7f7f7f;stroke:#7f7f7f;\" x=\"159.07484\" xlink:href=\"#mb25a268de5\" y=\"309.979219\"/>\n    </g>\n   </g>\n   <g id=\"PathCollection_9\">\n    <defs>\n     <path d=\"M 0 3 \nC 0.795609 3 1.55874 2.683901 2.12132 2.12132 \nC 2.683901 1.55874 3 0.795609 3 0 \nC 3 -0.795609 2.683901 -1.55874 2.12132 -2.12132 \nC 1.55874 -2.683901 0.795609 -3 0 -3 \nC -0.795609 -3 -1.55874 -2.683901 -2.12132 -2.12132 \nC -2.683901 -1.55874 -3 -0.795609 -3 0 \nC -3 0.795609 -2.683901 1.55874 -2.12132 2.12132 \nC -1.55874 2.683901 -0.795609 3 0 3 \nz\n\" id=\"mbd41ccc53c\" style=\"stroke:#bcbd22;\"/>\n    </defs>\n    <g clip-path=\"url(#p4970bb0ebd)\">\n     <use style=\"fill:#bcbd22;stroke:#bcbd22;\" x=\"115.478119\" xlink:href=\"#mbd41ccc53c\" y=\"309.979219\"/>\n    </g>\n   </g>\n   <g id=\"PathCollection_10\">\n    <defs>\n     <path d=\"M 0 3 \nC 0.795609 3 1.55874 2.683901 2.12132 2.12132 \nC 2.683901 1.55874 3 0.795609 3 0 \nC 3 -0.795609 2.683901 -1.55874 2.12132 -2.12132 \nC 1.55874 -2.683901 0.795609 -3 0 -3 \nC -0.795609 -3 -1.55874 -2.683901 -2.12132 -2.12132 \nC -2.683901 -1.55874 -3 -0.795609 -3 0 \nC -3 0.795609 -2.683901 1.55874 -2.12132 2.12132 \nC -1.55874 2.683901 -0.795609 3 0 3 \nz\n\" id=\"m5887c84921\" style=\"stroke:#17becf;\"/>\n    </defs>\n    <g clip-path=\"url(#p4970bb0ebd)\">\n     <use style=\"fill:#17becf;stroke:#17becf;\" x=\"165.682331\" xlink:href=\"#m5887c84921\" y=\"309.979219\"/>\n    </g>\n   </g>\n   <g id=\"PathCollection_11\">\n    <g clip-path=\"url(#p4970bb0ebd)\">\n     <use style=\"fill:#1f77b4;stroke:#1f77b4;\" x=\"111.050464\" xlink:href=\"#m1c62ba1ddd\" y=\"309.979219\"/>\n    </g>\n   </g>\n   <g id=\"PathCollection_12\">\n    <g clip-path=\"url(#p4970bb0ebd)\">\n     <use style=\"fill:#ff7f0e;stroke:#ff7f0e;\" x=\"172.620198\" xlink:href=\"#ma7bc6694fa\" y=\"309.979219\"/>\n    </g>\n   </g>\n   <g id=\"PathCollection_13\">\n    <g clip-path=\"url(#p4970bb0ebd)\">\n     <use style=\"fill:#2ca02c;stroke:#2ca02c;\" x=\"106.84419\" xlink:href=\"#mf988f08418\" y=\"309.979219\"/>\n    </g>\n   </g>\n   <g id=\"PathCollection_14\">\n    <g clip-path=\"url(#p4970bb0ebd)\">\n     <use style=\"fill:#d62728;stroke:#d62728;\" x=\"179.904958\" xlink:href=\"#m2c6dd15b32\" y=\"309.979219\"/>\n    </g>\n   </g>\n   <g id=\"PathCollection_15\">\n    <g clip-path=\"url(#p4970bb0ebd)\">\n     <use style=\"fill:#9467bd;stroke:#9467bd;\" x=\"102.848231\" xlink:href=\"#mee7166a7b9\" y=\"309.979219\"/>\n    </g>\n   </g>\n   <g id=\"PathCollection_16\">\n    <g clip-path=\"url(#p4970bb0ebd)\">\n     <use style=\"fill:#8c564b;stroke:#8c564b;\" x=\"187.553956\" xlink:href=\"#mc2242cac16\" y=\"309.979219\"/>\n    </g>\n   </g>\n   <g id=\"PathCollection_17\">\n    <g clip-path=\"url(#p4970bb0ebd)\">\n     <use style=\"fill:#e377c2;stroke:#e377c2;\" x=\"99.052069\" xlink:href=\"#mc13a049dc1\" y=\"309.979219\"/>\n    </g>\n   </g>\n   <g id=\"PathCollection_18\">\n    <g clip-path=\"url(#p4970bb0ebd)\">\n     <use style=\"fill:#7f7f7f;stroke:#7f7f7f;\" x=\"195.585404\" xlink:href=\"#mb25a268de5\" y=\"309.979219\"/>\n    </g>\n   </g>\n   <g id=\"PathCollection_19\">\n    <g clip-path=\"url(#p4970bb0ebd)\">\n     <use style=\"fill:#bcbd22;stroke:#bcbd22;\" x=\"95.445716\" xlink:href=\"#mbd41ccc53c\" y=\"309.979219\"/>\n    </g>\n   </g>\n   <g id=\"PathCollection_20\">\n    <g clip-path=\"url(#p4970bb0ebd)\">\n     <use style=\"fill:#17becf;stroke:#17becf;\" x=\"204.018424\" xlink:href=\"#m5887c84921\" y=\"309.979219\"/>\n    </g>\n   </g>\n   <g id=\"PathCollection_21\">\n    <g clip-path=\"url(#p4970bb0ebd)\">\n     <use style=\"fill:#1f77b4;stroke:#1f77b4;\" x=\"92.01968\" xlink:href=\"#m1c62ba1ddd\" y=\"309.979219\"/>\n    </g>\n   </g>\n   <g id=\"patch_3\">\n    <path clip-path=\"url(#p4970bb0ebd)\" d=\"M 17.30328 414.730939 \nL 199.62672 414.730939 \nL 199.62672 394.943899 \nL 17.30328 394.943899 \nz\n\" style=\"fill:none;stroke:#ff0000;stroke-linejoin:miter;\"/>\n   </g>\n   <g id=\"patch_4\">\n    <path clip-path=\"url(#p4970bb0ebd)\" d=\"M 17.30328 224.470939 \nL 199.62672 224.470939 \nL 199.62672 204.683899 \nL 17.30328 204.683899 \nz\n\" style=\"fill:none;stroke:#ff0000;stroke-linejoin:miter;\"/>\n   </g>\n   <g id=\"matplotlib.axis_1\">\n    <g id=\"xtick_1\">\n     <g id=\"line2d_1\">\n      <defs>\n       <path d=\"M 0 0 \nL 0 3.5 \n\" id=\"me08e9023ec\" style=\"stroke:#000000;stroke-width:0.8;\"/>\n      </defs>\n      <g>\n       <use style=\"stroke:#000000;stroke-width:0.8;\" x=\"26.925\" xlink:href=\"#me08e9023ec\" y=\"554.599219\"/>\n      </g>\n     </g>\n     <g id=\"text_1\">\n      <!-- 0 -->\n      <g transform=\"translate(23.74375 569.197656)scale(0.1 -0.1)\">\n       <defs>\n        <path d=\"M 31.78125 66.40625 \nQ 24.171875 66.40625 20.328125 58.90625 \nQ 16.5 51.421875 16.5 36.375 \nQ 16.5 21.390625 20.328125 13.890625 \nQ 24.171875 6.390625 31.78125 6.390625 \nQ 39.453125 6.390625 43.28125 13.890625 \nQ 47.125 21.390625 47.125 36.375 \nQ 47.125 51.421875 43.28125 58.90625 \nQ 39.453125 66.40625 31.78125 66.40625 \nz\nM 31.78125 74.21875 \nQ 44.046875 74.21875 50.515625 64.515625 \nQ 56.984375 54.828125 56.984375 36.375 \nQ 56.984375 17.96875 50.515625 8.265625 \nQ 44.046875 -1.421875 31.78125 -1.421875 \nQ 19.53125 -1.421875 13.0625 8.265625 \nQ 6.59375 17.96875 6.59375 36.375 \nQ 6.59375 54.828125 13.0625 64.515625 \nQ 19.53125 74.21875 31.78125 74.21875 \nz\n\" id=\"DejaVuSans-48\"/>\n       </defs>\n       <use xlink:href=\"#DejaVuSans-48\"/>\n      </g>\n     </g>\n    </g>\n    <g id=\"xtick_2\">\n     <g id=\"line2d_2\">\n      <g>\n       <use style=\"stroke:#000000;stroke-width:0.8;\" x=\"135.645\" xlink:href=\"#me08e9023ec\" y=\"554.599219\"/>\n      </g>\n     </g>\n     <g id=\"text_2\">\n      <!-- 2 -->\n      <g transform=\"translate(132.46375 569.197656)scale(0.1 -0.1)\">\n       <defs>\n        <path d=\"M 19.1875 8.296875 \nL 53.609375 8.296875 \nL 53.609375 0 \nL 7.328125 0 \nL 7.328125 8.296875 \nQ 12.9375 14.109375 22.625 23.890625 \nQ 32.328125 33.6875 34.8125 36.53125 \nQ 39.546875 41.84375 41.421875 45.53125 \nQ 43.3125 49.21875 43.3125 52.78125 \nQ 43.3125 58.59375 39.234375 62.25 \nQ 35.15625 65.921875 28.609375 65.921875 \nQ 23.96875 65.921875 18.8125 64.3125 \nQ 13.671875 62.703125 7.8125 59.421875 \nL 7.8125 69.390625 \nQ 13.765625 71.78125 18.9375 73 \nQ 24.125 74.21875 28.421875 74.21875 \nQ 39.75 74.21875 46.484375 68.546875 \nQ 53.21875 62.890625 53.21875 53.421875 \nQ 53.21875 48.921875 51.53125 44.890625 \nQ 49.859375 40.875 45.40625 35.40625 \nQ 44.1875 33.984375 37.640625 27.21875 \nQ 31.109375 20.453125 19.1875 8.296875 \nz\n\" id=\"DejaVuSans-50\"/>\n       </defs>\n       <use xlink:href=\"#DejaVuSans-50\"/>\n      </g>\n     </g>\n    </g>\n    <g id=\"xtick_3\">\n     <g id=\"line2d_3\">\n      <g>\n       <use style=\"stroke:#000000;stroke-width:0.8;\" x=\"244.365\" xlink:href=\"#me08e9023ec\" y=\"554.599219\"/>\n      </g>\n     </g>\n     <g id=\"text_3\">\n      <!-- 4 -->\n      <g transform=\"translate(241.18375 569.197656)scale(0.1 -0.1)\">\n       <defs>\n        <path d=\"M 37.796875 64.3125 \nL 12.890625 25.390625 \nL 37.796875 25.390625 \nz\nM 35.203125 72.90625 \nL 47.609375 72.90625 \nL 47.609375 25.390625 \nL 58.015625 25.390625 \nL 58.015625 17.1875 \nL 47.609375 17.1875 \nL 47.609375 0 \nL 37.796875 0 \nL 37.796875 17.1875 \nL 4.890625 17.1875 \nL 4.890625 26.703125 \nz\n\" id=\"DejaVuSans-52\"/>\n       </defs>\n       <use xlink:href=\"#DejaVuSans-52\"/>\n      </g>\n     </g>\n    </g>\n    <g id=\"xtick_4\">\n     <g id=\"line2d_4\">\n      <g>\n       <use style=\"stroke:#000000;stroke-width:0.8;\" x=\"353.085\" xlink:href=\"#me08e9023ec\" y=\"554.599219\"/>\n      </g>\n     </g>\n     <g id=\"text_4\">\n      <!-- 6 -->\n      <g transform=\"translate(349.90375 569.197656)scale(0.1 -0.1)\">\n       <defs>\n        <path d=\"M 33.015625 40.375 \nQ 26.375 40.375 22.484375 35.828125 \nQ 18.609375 31.296875 18.609375 23.390625 \nQ 18.609375 15.53125 22.484375 10.953125 \nQ 26.375 6.390625 33.015625 6.390625 \nQ 39.65625 6.390625 43.53125 10.953125 \nQ 47.40625 15.53125 47.40625 23.390625 \nQ 47.40625 31.296875 43.53125 35.828125 \nQ 39.65625 40.375 33.015625 40.375 \nz\nM 52.59375 71.296875 \nL 52.59375 62.3125 \nQ 48.875 64.0625 45.09375 64.984375 \nQ 41.3125 65.921875 37.59375 65.921875 \nQ 27.828125 65.921875 22.671875 59.328125 \nQ 17.53125 52.734375 16.796875 39.40625 \nQ 19.671875 43.65625 24.015625 45.921875 \nQ 28.375 48.1875 33.59375 48.1875 \nQ 44.578125 48.1875 50.953125 41.515625 \nQ 57.328125 34.859375 57.328125 23.390625 \nQ 57.328125 12.15625 50.6875 5.359375 \nQ 44.046875 -1.421875 33.015625 -1.421875 \nQ 20.359375 -1.421875 13.671875 8.265625 \nQ 6.984375 17.96875 6.984375 36.375 \nQ 6.984375 53.65625 15.1875 63.9375 \nQ 23.390625 74.21875 37.203125 74.21875 \nQ 40.921875 74.21875 44.703125 73.484375 \nQ 48.484375 72.75 52.59375 71.296875 \nz\n\" id=\"DejaVuSans-54\"/>\n       </defs>\n       <use xlink:href=\"#DejaVuSans-54\"/>\n      </g>\n     </g>\n    </g>\n    <g id=\"xtick_5\">\n     <g id=\"line2d_5\">\n      <g>\n       <use style=\"stroke:#000000;stroke-width:0.8;\" x=\"461.805\" xlink:href=\"#me08e9023ec\" y=\"554.599219\"/>\n      </g>\n     </g>\n     <g id=\"text_5\">\n      <!-- 8 -->\n      <g transform=\"translate(458.62375 569.197656)scale(0.1 -0.1)\">\n       <defs>\n        <path d=\"M 31.78125 34.625 \nQ 24.75 34.625 20.71875 30.859375 \nQ 16.703125 27.09375 16.703125 20.515625 \nQ 16.703125 13.921875 20.71875 10.15625 \nQ 24.75 6.390625 31.78125 6.390625 \nQ 38.8125 6.390625 42.859375 10.171875 \nQ 46.921875 13.96875 46.921875 20.515625 \nQ 46.921875 27.09375 42.890625 30.859375 \nQ 38.875 34.625 31.78125 34.625 \nz\nM 21.921875 38.8125 \nQ 15.578125 40.375 12.03125 44.71875 \nQ 8.5 49.078125 8.5 55.328125 \nQ 8.5 64.0625 14.71875 69.140625 \nQ 20.953125 74.21875 31.78125 74.21875 \nQ 42.671875 74.21875 48.875 69.140625 \nQ 55.078125 64.0625 55.078125 55.328125 \nQ 55.078125 49.078125 51.53125 44.71875 \nQ 48 40.375 41.703125 38.8125 \nQ 48.828125 37.15625 52.796875 32.3125 \nQ 56.78125 27.484375 56.78125 20.515625 \nQ 56.78125 9.90625 50.3125 4.234375 \nQ 43.84375 -1.421875 31.78125 -1.421875 \nQ 19.734375 -1.421875 13.25 4.234375 \nQ 6.78125 9.90625 6.78125 20.515625 \nQ 6.78125 27.484375 10.78125 32.3125 \nQ 14.796875 37.15625 21.921875 38.8125 \nz\nM 18.3125 54.390625 \nQ 18.3125 48.734375 21.84375 45.5625 \nQ 25.390625 42.390625 31.78125 42.390625 \nQ 38.140625 42.390625 41.71875 45.5625 \nQ 45.3125 48.734375 45.3125 54.390625 \nQ 45.3125 60.0625 41.71875 63.234375 \nQ 38.140625 66.40625 31.78125 66.40625 \nQ 25.390625 66.40625 21.84375 63.234375 \nQ 18.3125 60.0625 18.3125 54.390625 \nz\n\" id=\"DejaVuSans-56\"/>\n       </defs>\n       <use xlink:href=\"#DejaVuSans-56\"/>\n      </g>\n     </g>\n    </g>\n    <g id=\"xtick_6\">\n     <g id=\"line2d_6\">\n      <g>\n       <use style=\"stroke:#000000;stroke-width:0.8;\" x=\"570.525\" xlink:href=\"#me08e9023ec\" y=\"554.599219\"/>\n      </g>\n     </g>\n     <g id=\"text_6\">\n      <!-- 10 -->\n      <g transform=\"translate(564.1625 569.197656)scale(0.1 -0.1)\">\n       <defs>\n        <path d=\"M 12.40625 8.296875 \nL 28.515625 8.296875 \nL 28.515625 63.921875 \nL 10.984375 60.40625 \nL 10.984375 69.390625 \nL 28.421875 72.90625 \nL 38.28125 72.90625 \nL 38.28125 8.296875 \nL 54.390625 8.296875 \nL 54.390625 0 \nL 12.40625 0 \nz\n\" id=\"DejaVuSans-49\"/>\n       </defs>\n       <use xlink:href=\"#DejaVuSans-49\"/>\n       <use x=\"63.623047\" xlink:href=\"#DejaVuSans-48\"/>\n      </g>\n     </g>\n    </g>\n   </g>\n   <g id=\"matplotlib.axis_2\">\n    <g id=\"ytick_1\">\n     <g id=\"line2d_7\">\n      <defs>\n       <path d=\"M 0 0 \nL -3.5 0 \n\" id=\"md77e0fbb87\" style=\"stroke:#000000;stroke-width:0.8;\"/>\n      </defs>\n      <g>\n       <use style=\"stroke:#000000;stroke-width:0.8;\" x=\"26.925\" xlink:href=\"#md77e0fbb87\" y=\"554.599219\"/>\n      </g>\n     </g>\n     <g id=\"text_7\">\n      <!-- 0 -->\n      <g transform=\"translate(13.5625 558.398438)scale(0.1 -0.1)\">\n       <use xlink:href=\"#DejaVuSans-48\"/>\n      </g>\n     </g>\n    </g>\n    <g id=\"ytick_2\">\n     <g id=\"line2d_8\">\n      <g>\n       <use style=\"stroke:#000000;stroke-width:0.8;\" x=\"26.925\" xlink:href=\"#md77e0fbb87\" y=\"445.879219\"/>\n      </g>\n     </g>\n     <g id=\"text_8\">\n      <!-- 2 -->\n      <g transform=\"translate(13.5625 449.678438)scale(0.1 -0.1)\">\n       <use xlink:href=\"#DejaVuSans-50\"/>\n      </g>\n     </g>\n    </g>\n    <g id=\"ytick_3\">\n     <g id=\"line2d_9\">\n      <g>\n       <use style=\"stroke:#000000;stroke-width:0.8;\" x=\"26.925\" xlink:href=\"#md77e0fbb87\" y=\"337.159219\"/>\n      </g>\n     </g>\n     <g id=\"text_9\">\n      <!-- 4 -->\n      <g transform=\"translate(13.5625 340.958438)scale(0.1 -0.1)\">\n       <use xlink:href=\"#DejaVuSans-52\"/>\n      </g>\n     </g>\n    </g>\n    <g id=\"ytick_4\">\n     <g id=\"line2d_10\">\n      <g>\n       <use style=\"stroke:#000000;stroke-width:0.8;\" x=\"26.925\" xlink:href=\"#md77e0fbb87\" y=\"228.439219\"/>\n      </g>\n     </g>\n     <g id=\"text_10\">\n      <!-- 6 -->\n      <g transform=\"translate(13.5625 232.238438)scale(0.1 -0.1)\">\n       <use xlink:href=\"#DejaVuSans-54\"/>\n      </g>\n     </g>\n    </g>\n    <g id=\"ytick_5\">\n     <g id=\"line2d_11\">\n      <g>\n       <use style=\"stroke:#000000;stroke-width:0.8;\" x=\"26.925\" xlink:href=\"#md77e0fbb87\" y=\"119.719219\"/>\n      </g>\n     </g>\n     <g id=\"text_11\">\n      <!-- 8 -->\n      <g transform=\"translate(13.5625 123.518438)scale(0.1 -0.1)\">\n       <use xlink:href=\"#DejaVuSans-56\"/>\n      </g>\n     </g>\n    </g>\n    <g id=\"ytick_6\">\n     <g id=\"line2d_12\">\n      <g>\n       <use style=\"stroke:#000000;stroke-width:0.8;\" x=\"26.925\" xlink:href=\"#md77e0fbb87\" y=\"10.999219\"/>\n      </g>\n     </g>\n     <g id=\"text_12\">\n      <!-- 10 -->\n      <g transform=\"translate(7.2 14.798438)scale(0.1 -0.1)\">\n       <use xlink:href=\"#DejaVuSans-49\"/>\n       <use x=\"63.623047\" xlink:href=\"#DejaVuSans-48\"/>\n      </g>\n     </g>\n    </g>\n   </g>\n   <g id=\"line2d_13\">\n    <path clip-path=\"url(#p4970bb0ebd)\" d=\"M 461.805 228.439219 \nL 461.805 228.439219 \n\" style=\"fill:none;stroke:#008000;stroke-linecap:square;stroke-width:2;\"/>\n   </g>\n   <g id=\"line2d_14\">\n    <path clip-path=\"url(#p4970bb0ebd)\" d=\"M 461.805 228.439219 \nL 456.369068 228.466421 \n\" style=\"fill:none;stroke:#008000;stroke-linecap:square;stroke-width:2;\"/>\n   </g>\n   <g id=\"line2d_15\">\n    <path clip-path=\"url(#p4970bb0ebd)\" d=\"M 456.369068 228.466421 \nL 450.933683 228.548163 \n\" style=\"fill:none;stroke:#008000;stroke-linecap:square;stroke-width:2;\"/>\n   </g>\n   <g id=\"line2d_16\">\n    <path clip-path=\"url(#p4970bb0ebd)\" d=\"M 450.933683 228.548163 \nL 445.500153 228.71204 \n\" style=\"fill:none;stroke:#008000;stroke-linecap:square;stroke-width:2;\"/>\n   </g>\n   <g id=\"line2d_17\">\n    <path clip-path=\"url(#p4970bb0ebd)\" d=\"M 445.500153 228.71204 \nL 440.071062 228.986018 \n\" style=\"fill:none;stroke:#008000;stroke-linecap:square;stroke-width:2;\"/>\n   </g>\n   <g id=\"line2d_18\">\n    <path clip-path=\"url(#p4970bb0ebd)\" d=\"M 440.071062 228.986018 \nL 434.650736 229.39852 \n\" style=\"fill:none;stroke:#008000;stroke-linecap:square;stroke-width:2;\"/>\n   </g>\n   <g id=\"line2d_19\">\n    <path clip-path=\"url(#p4970bb0ebd)\" d=\"M 434.650736 229.39852 \nL 429.245761 229.978468 \n\" style=\"fill:none;stroke:#008000;stroke-linecap:square;stroke-width:2;\"/>\n   </g>\n   <g id=\"line2d_20\">\n    <path clip-path=\"url(#p4970bb0ebd)\" d=\"M 429.245761 229.978468 \nL 423.865551 230.755283 \n\" style=\"fill:none;stroke:#008000;stroke-linecap:square;stroke-width:2;\"/>\n   </g>\n   <g id=\"line2d_21\">\n    <path clip-path=\"url(#p4970bb0ebd)\" d=\"M 423.865551 230.755283 \nL 418.522983 231.758808 \n\" style=\"fill:none;stroke:#008000;stroke-linecap:square;stroke-width:2;\"/>\n   </g>\n   <g id=\"line2d_22\">\n    <path clip-path=\"url(#p4970bb0ebd)\" d=\"M 418.522983 231.758808 \nL 413.235104 233.019137 \n\" style=\"fill:none;stroke:#008000;stroke-linecap:square;stroke-width:2;\"/>\n   </g>\n   <g id=\"line2d_23\">\n    <path clip-path=\"url(#p4970bb0ebd)\" d=\"M 413.235104 233.019137 \nL 408.023931 234.56632 \n\" style=\"fill:none;stroke:#008000;stroke-linecap:square;stroke-width:2;\"/>\n   </g>\n   <g id=\"line2d_24\">\n    <path clip-path=\"url(#p4970bb0ebd)\" d=\"M 408.023931 234.56632 \nL 402.917349 236.429896 \n\" style=\"fill:none;stroke:#008000;stroke-linecap:square;stroke-width:2;\"/>\n   </g>\n   <g id=\"line2d_25\">\n    <path clip-path=\"url(#p4970bb0ebd)\" d=\"M 402.917349 236.429896 \nL 402.917349 236.429896 \n\" style=\"fill:none;stroke:#008000;stroke-linecap:square;stroke-width:2;\"/>\n   </g>\n   <g id=\"line2d_26\">\n    <path clip-path=\"url(#p4970bb0ebd)\" d=\"M 402.917349 236.429896 \nL 397.915854 238.559484 \n\" style=\"fill:none;stroke:#008000;stroke-linecap:square;stroke-width:2;\"/>\n   </g>\n   <g id=\"line2d_27\">\n    <path clip-path=\"url(#p4970bb0ebd)\" d=\"M 397.915854 238.559484 \nL 393.020425 240.922716 \n\" style=\"fill:none;stroke:#008000;stroke-linecap:square;stroke-width:2;\"/>\n   </g>\n   <g id=\"line2d_28\">\n    <path clip-path=\"url(#p4970bb0ebd)\" d=\"M 393.020425 240.922716 \nL 388.22656 243.485714 \n\" style=\"fill:none;stroke:#008000;stroke-linecap:square;stroke-width:2;\"/>\n   </g>\n   <g id=\"line2d_29\">\n    <path clip-path=\"url(#p4970bb0ebd)\" d=\"M 388.22656 243.485714 \nL 383.526661 246.217206 \n\" style=\"fill:none;stroke:#008000;stroke-linecap:square;stroke-width:2;\"/>\n   </g>\n   <g id=\"line2d_30\">\n    <path clip-path=\"url(#p4970bb0ebd)\" d=\"M 383.526661 246.217206 \nL 378.910684 249.088242 \n\" style=\"fill:none;stroke:#008000;stroke-linecap:square;stroke-width:2;\"/>\n   </g>\n   <g id=\"line2d_31\">\n    <path clip-path=\"url(#p4970bb0ebd)\" d=\"M 378.910684 249.088242 \nL 374.366673 252.071874 \n\" style=\"fill:none;stroke:#008000;stroke-linecap:square;stroke-width:2;\"/>\n   </g>\n   <g id=\"line2d_32\">\n    <path clip-path=\"url(#p4970bb0ebd)\" d=\"M 374.366673 252.071874 \nL 369.881215 255.142829 \n\" style=\"fill:none;stroke:#008000;stroke-linecap:square;stroke-width:2;\"/>\n   </g>\n   <g id=\"line2d_33\">\n    <path clip-path=\"url(#p4970bb0ebd)\" d=\"M 369.881215 255.142829 \nL 365.439813 258.277163 \n\" style=\"fill:none;stroke:#008000;stroke-linecap:square;stroke-width:2;\"/>\n   </g>\n   <g id=\"line2d_34\">\n    <path clip-path=\"url(#p4970bb0ebd)\" d=\"M 365.439813 258.277163 \nL 361.027215 261.451918 \n\" style=\"fill:none;stroke:#008000;stroke-linecap:square;stroke-width:2;\"/>\n   </g>\n   <g id=\"line2d_35\">\n    <path clip-path=\"url(#p4970bb0ebd)\" d=\"M 361.027215 261.451918 \nL 356.627694 264.644771 \n\" style=\"fill:none;stroke:#008000;stroke-linecap:square;stroke-width:2;\"/>\n   </g>\n   <g id=\"line2d_36\">\n    <path clip-path=\"url(#p4970bb0ebd)\" d=\"M 356.627694 264.644771 \nL 352.225317 267.833686 \n\" style=\"fill:none;stroke:#008000;stroke-linecap:square;stroke-width:2;\"/>\n   </g>\n   <g id=\"line2d_37\">\n    <path clip-path=\"url(#p4970bb0ebd)\" d=\"M 352.225317 267.833686 \nL 352.225317 267.833686 \n\" style=\"fill:none;stroke:#008000;stroke-linecap:square;stroke-width:2;\"/>\n   </g>\n   <g id=\"line2d_38\">\n    <path clip-path=\"url(#p4970bb0ebd)\" d=\"M 352.225317 267.833686 \nL 347.766179 270.942734 \n\" style=\"fill:none;stroke:#008000;stroke-linecap:square;stroke-width:2;\"/>\n   </g>\n   <g id=\"line2d_39\">\n    <path clip-path=\"url(#p4970bb0ebd)\" d=\"M 347.766179 270.942734 \nL 343.294634 274.033911 \n\" style=\"fill:none;stroke:#008000;stroke-linecap:square;stroke-width:2;\"/>\n   </g>\n   <g id=\"line2d_40\">\n    <path clip-path=\"url(#p4970bb0ebd)\" d=\"M 343.294634 274.033911 \nL 338.8046 277.098172 \n\" style=\"fill:none;stroke:#008000;stroke-linecap:square;stroke-width:2;\"/>\n   </g>\n   <g id=\"line2d_41\">\n    <path clip-path=\"url(#p4970bb0ebd)\" d=\"M 338.8046 277.098172 \nL 334.290144 280.126337 \n\" style=\"fill:none;stroke:#008000;stroke-linecap:square;stroke-width:2;\"/>\n   </g>\n   <g id=\"line2d_42\">\n    <path clip-path=\"url(#p4970bb0ebd)\" d=\"M 334.290144 280.126337 \nL 329.745532 283.109054 \n\" style=\"fill:none;stroke:#008000;stroke-linecap:square;stroke-width:2;\"/>\n   </g>\n   <g id=\"line2d_43\">\n    <path clip-path=\"url(#p4970bb0ebd)\" d=\"M 329.745532 283.109054 \nL 325.165287 286.036758 \n\" style=\"fill:none;stroke:#008000;stroke-linecap:square;stroke-width:2;\"/>\n   </g>\n   <g id=\"line2d_44\">\n    <path clip-path=\"url(#p4970bb0ebd)\" d=\"M 325.165287 286.036758 \nL 320.54424 288.899627 \n\" style=\"fill:none;stroke:#008000;stroke-linecap:square;stroke-width:2;\"/>\n   </g>\n   <g id=\"line2d_45\">\n    <path clip-path=\"url(#p4970bb0ebd)\" d=\"M 320.54424 288.899627 \nL 315.877596 291.687553 \n\" style=\"fill:none;stroke:#008000;stroke-linecap:square;stroke-width:2;\"/>\n   </g>\n   <g id=\"line2d_46\">\n    <path clip-path=\"url(#p4970bb0ebd)\" d=\"M 315.877596 291.687553 \nL 311.160996 294.390103 \n\" style=\"fill:none;stroke:#008000;stroke-linecap:square;stroke-width:2;\"/>\n   </g>\n   <g id=\"line2d_47\">\n    <path clip-path=\"url(#p4970bb0ebd)\" d=\"M 311.160996 294.390103 \nL 306.390585 296.996494 \n\" style=\"fill:none;stroke:#008000;stroke-linecap:square;stroke-width:2;\"/>\n   </g>\n   <g id=\"line2d_48\">\n    <path clip-path=\"url(#p4970bb0ebd)\" d=\"M 306.390585 296.996494 \nL 301.563087 299.495567 \n\" style=\"fill:none;stroke:#008000;stroke-linecap:square;stroke-width:2;\"/>\n   </g>\n   <g id=\"line2d_49\">\n    <path clip-path=\"url(#p4970bb0ebd)\" d=\"M 301.563087 299.495567 \nL 301.563087 299.495567 \n\" style=\"fill:none;stroke:#008000;stroke-linecap:square;stroke-width:2;\"/>\n   </g>\n   <g id=\"line2d_50\">\n    <path clip-path=\"url(#p4970bb0ebd)\" d=\"M 301.563087 299.495567 \nL 296.668217 301.859957 \n\" style=\"fill:none;stroke:#008000;stroke-linecap:square;stroke-width:2;\"/>\n   </g>\n   <g id=\"line2d_51\">\n    <path clip-path=\"url(#p4970bb0ebd)\" d=\"M 296.668217 301.859957 \nL 291.7242 304.119778 \n\" style=\"fill:none;stroke:#008000;stroke-linecap:square;stroke-width:2;\"/>\n   </g>\n   <g id=\"line2d_52\">\n    <path clip-path=\"url(#p4970bb0ebd)\" d=\"M 291.7242 304.119778 \nL 286.733269 306.274008 \n\" style=\"fill:none;stroke:#008000;stroke-linecap:square;stroke-width:2;\"/>\n   </g>\n   <g id=\"line2d_53\">\n    <path clip-path=\"url(#p4970bb0ebd)\" d=\"M 286.733269 306.274008 \nL 281.69768 308.321673 \n\" style=\"fill:none;stroke:#008000;stroke-linecap:square;stroke-width:2;\"/>\n   </g>\n   <g id=\"line2d_54\">\n    <path clip-path=\"url(#p4970bb0ebd)\" d=\"M 281.69768 308.321673 \nL 276.619706 310.26185 \n\" style=\"fill:none;stroke:#008000;stroke-linecap:square;stroke-width:2;\"/>\n   </g>\n   <g id=\"line2d_55\">\n    <path clip-path=\"url(#p4970bb0ebd)\" d=\"M 276.619706 310.26185 \nL 271.501644 312.09366 \n\" style=\"fill:none;stroke:#008000;stroke-linecap:square;stroke-width:2;\"/>\n   </g>\n   <g id=\"line2d_56\">\n    <path clip-path=\"url(#p4970bb0ebd)\" d=\"M 271.501644 312.09366 \nL 266.345804 313.816278 \n\" style=\"fill:none;stroke:#008000;stroke-linecap:square;stroke-width:2;\"/>\n   </g>\n   <g id=\"line2d_57\">\n    <path clip-path=\"url(#p4970bb0ebd)\" d=\"M 266.345804 313.816278 \nL 261.154516 315.428923 \n\" style=\"fill:none;stroke:#008000;stroke-linecap:square;stroke-width:2;\"/>\n   </g>\n   <g id=\"line2d_58\">\n    <path clip-path=\"url(#p4970bb0ebd)\" d=\"M 261.154516 315.428923 \nL 255.930125 316.930869 \n\" style=\"fill:none;stroke:#008000;stroke-linecap:square;stroke-width:2;\"/>\n   </g>\n   <g id=\"line2d_59\">\n    <path clip-path=\"url(#p4970bb0ebd)\" d=\"M 255.930125 316.930869 \nL 250.674992 318.321435 \n\" style=\"fill:none;stroke:#008000;stroke-linecap:square;stroke-width:2;\"/>\n   </g>\n   <g id=\"line2d_60\">\n    <path clip-path=\"url(#p4970bb0ebd)\" d=\"M 250.674992 318.321435 \nL 245.391492 319.599995 \n\" style=\"fill:none;stroke:#008000;stroke-linecap:square;stroke-width:2;\"/>\n   </g>\n   <g id=\"line2d_61\">\n    <path clip-path=\"url(#p4970bb0ebd)\" d=\"M 245.391492 319.599995 \nL 245.391492 319.599995 \n\" style=\"fill:none;stroke:#008000;stroke-linecap:square;stroke-width:2;\"/>\n   </g>\n   <g id=\"line2d_62\">\n    <path clip-path=\"url(#p4970bb0ebd)\" d=\"M 245.391492 319.599995 \nL 240.072345 320.721052 \n\" style=\"fill:none;stroke:#008000;stroke-linecap:square;stroke-width:2;\"/>\n   </g>\n   <g id=\"line2d_63\">\n    <path clip-path=\"url(#p4970bb0ebd)\" d=\"M 240.072345 320.721052 \nL 234.734798 321.75095 \n\" style=\"fill:none;stroke:#008000;stroke-linecap:square;stroke-width:2;\"/>\n   </g>\n   <g id=\"line2d_64\">\n    <path clip-path=\"url(#p4970bb0ebd)\" d=\"M 234.734798 321.75095 \nL 229.38235 322.700372 \n\" style=\"fill:none;stroke:#008000;stroke-linecap:square;stroke-width:2;\"/>\n   </g>\n   <g id=\"line2d_65\">\n    <path clip-path=\"url(#p4970bb0ebd)\" d=\"M 229.38235 322.700372 \nL 224.017998 323.580043 \n\" style=\"fill:none;stroke:#008000;stroke-linecap:square;stroke-width:2;\"/>\n   </g>\n   <g id=\"line2d_66\">\n    <path clip-path=\"url(#p4970bb0ebd)\" d=\"M 224.017998 323.580043 \nL 218.644304 324.40072 \n\" style=\"fill:none;stroke:#008000;stroke-linecap:square;stroke-width:2;\"/>\n   </g>\n   <g id=\"line2d_67\">\n    <path clip-path=\"url(#p4970bb0ebd)\" d=\"M 218.644304 324.40072 \nL 213.263467 325.173174 \n\" style=\"fill:none;stroke:#008000;stroke-linecap:square;stroke-width:2;\"/>\n   </g>\n   <g id=\"line2d_68\">\n    <path clip-path=\"url(#p4970bb0ebd)\" d=\"M 213.263467 325.173174 \nL 207.877387 325.908185 \n\" style=\"fill:none;stroke:#008000;stroke-linecap:square;stroke-width:2;\"/>\n   </g>\n   <g id=\"line2d_69\">\n    <path clip-path=\"url(#p4970bb0ebd)\" d=\"M 207.877387 325.908185 \nL 202.487736 326.616537 \n\" style=\"fill:none;stroke:#008000;stroke-linecap:square;stroke-width:2;\"/>\n   </g>\n   <g id=\"line2d_70\">\n    <path clip-path=\"url(#p4970bb0ebd)\" d=\"M 202.487736 326.616537 \nL 197.096023 327.309014 \n\" style=\"fill:none;stroke:#008000;stroke-linecap:square;stroke-width:2;\"/>\n   </g>\n   <g id=\"line2d_71\">\n    <path clip-path=\"url(#p4970bb0ebd)\" d=\"M 197.096023 327.309014 \nL 191.703659 327.996401 \n\" style=\"fill:none;stroke:#008000;stroke-linecap:square;stroke-width:2;\"/>\n   </g>\n   <g id=\"line2d_72\">\n    <path clip-path=\"url(#p4970bb0ebd)\" d=\"M 191.703659 327.996401 \nL 186.312023 328.689483 \n\" style=\"fill:none;stroke:#008000;stroke-linecap:square;stroke-width:2;\"/>\n   </g>\n   <g id=\"line2d_73\">\n    <path clip-path=\"url(#p4970bb0ebd)\" d=\"M 186.312023 328.689483 \nL 186.312023 328.689483 \n\" style=\"fill:none;stroke:#008000;stroke-linecap:square;stroke-width:2;\"/>\n   </g>\n   <g id=\"line2d_74\">\n    <path clip-path=\"url(#p4970bb0ebd)\" d=\"M 186.312023 328.689483 \nL 180.915228 329.341171 \n\" style=\"fill:none;stroke:#008000;stroke-linecap:square;stroke-width:2;\"/>\n   </g>\n   <g id=\"line2d_75\">\n    <path clip-path=\"url(#p4970bb0ebd)\" d=\"M 180.915228 329.341171 \nL 175.515868 329.971255 \n\" style=\"fill:none;stroke:#008000;stroke-linecap:square;stroke-width:2;\"/>\n   </g>\n   <g id=\"line2d_76\">\n    <path clip-path=\"url(#p4970bb0ebd)\" d=\"M 175.515868 329.971255 \nL 170.11282 330.568893 \n\" style=\"fill:none;stroke:#008000;stroke-linecap:square;stroke-width:2;\"/>\n   </g>\n   <g id=\"line2d_77\">\n    <path clip-path=\"url(#p4970bb0ebd)\" d=\"M 170.11282 330.568893 \nL 164.705155 331.123196 \n\" style=\"fill:none;stroke:#008000;stroke-linecap:square;stroke-width:2;\"/>\n   </g>\n   <g id=\"line2d_78\">\n    <path clip-path=\"url(#p4970bb0ebd)\" d=\"M 164.705155 331.123196 \nL 159.2922 331.623213 \n\" style=\"fill:none;stroke:#008000;stroke-linecap:square;stroke-width:2;\"/>\n   </g>\n   <g id=\"line2d_79\">\n    <path clip-path=\"url(#p4970bb0ebd)\" d=\"M 159.2922 331.623213 \nL 153.87361 332.057927 \n\" style=\"fill:none;stroke:#008000;stroke-linecap:square;stroke-width:2;\"/>\n   </g>\n   <g id=\"line2d_80\">\n    <path clip-path=\"url(#p4970bb0ebd)\" d=\"M 153.87361 332.057927 \nL 148.449432 332.416241 \n\" style=\"fill:none;stroke:#008000;stroke-linecap:square;stroke-width:2;\"/>\n   </g>\n   <g id=\"line2d_81\">\n    <path clip-path=\"url(#p4970bb0ebd)\" d=\"M 148.449432 332.416241 \nL 143.020178 332.686976 \n\" style=\"fill:none;stroke:#008000;stroke-linecap:square;stroke-width:2;\"/>\n   </g>\n   <g id=\"line2d_82\">\n    <path clip-path=\"url(#p4970bb0ebd)\" d=\"M 143.020178 332.686976 \nL 137.586896 332.858876 \n\" style=\"fill:none;stroke:#008000;stroke-linecap:square;stroke-width:2;\"/>\n   </g>\n   <g id=\"line2d_83\">\n    <path clip-path=\"url(#p4970bb0ebd)\" d=\"M 137.586896 332.858876 \nL 132.151247 332.920611 \n\" style=\"fill:none;stroke:#008000;stroke-linecap:square;stroke-width:2;\"/>\n   </g>\n   <g id=\"line2d_84\">\n    <path clip-path=\"url(#p4970bb0ebd)\" d=\"M 132.151247 332.920611 \nL 126.715576 332.860788 \n\" style=\"fill:none;stroke:#008000;stroke-linecap:square;stroke-width:2;\"/>\n   </g>\n   <g id=\"line2d_85\">\n    <path clip-path=\"url(#p4970bb0ebd)\" d=\"M 126.715576 332.860788 \nL 126.715576 332.860788 \n\" style=\"fill:none;stroke:#008000;stroke-linecap:square;stroke-width:2;\"/>\n   </g>\n   <g id=\"line2d_86\">\n    <path clip-path=\"url(#p4970bb0ebd)\" d=\"M 126.715576 332.860788 \nL 121.280279 332.773379 \n\" style=\"fill:none;stroke:#008000;stroke-linecap:square;stroke-width:2;\"/>\n   </g>\n   <g id=\"line2d_87\">\n    <path clip-path=\"url(#p4970bb0ebd)\" d=\"M 121.280279 332.773379 \nL 115.84627 332.626253 \n\" style=\"fill:none;stroke:#008000;stroke-linecap:square;stroke-width:2;\"/>\n   </g>\n   <g id=\"line2d_88\">\n    <path clip-path=\"url(#p4970bb0ebd)\" d=\"M 115.84627 332.626253 \nL 110.413233 332.446793 \n\" style=\"fill:none;stroke:#008000;stroke-linecap:square;stroke-width:2;\"/>\n   </g>\n   <g id=\"line2d_89\">\n    <path clip-path=\"url(#p4970bb0ebd)\" d=\"M 110.413233 332.446793 \nL 104.980368 332.262205 \n\" style=\"fill:none;stroke:#008000;stroke-linecap:square;stroke-width:2;\"/>\n   </g>\n   <g id=\"line2d_90\">\n    <path clip-path=\"url(#p4970bb0ebd)\" d=\"M 104.980368 332.262205 \nL 99.546799 332.099666 \n\" style=\"fill:none;stroke:#008000;stroke-linecap:square;stroke-width:2;\"/>\n   </g>\n   <g id=\"line2d_91\">\n    <path clip-path=\"url(#p4970bb0ebd)\" d=\"M 99.546799 332.099666 \nL 94.111978 331.986474 \n\" style=\"fill:none;stroke:#008000;stroke-linecap:square;stroke-width:2;\"/>\n   </g>\n   <g id=\"line2d_92\">\n    <path clip-path=\"url(#p4970bb0ebd)\" d=\"M 94.111978 331.986474 \nL 88.676099 331.950191 \n\" style=\"fill:none;stroke:#008000;stroke-linecap:square;stroke-width:2;\"/>\n   </g>\n   <g id=\"line2d_93\">\n    <path clip-path=\"url(#p4970bb0ebd)\" d=\"M 88.676099 331.950191 \nL 83.240531 332.018766 \n\" style=\"fill:none;stroke:#008000;stroke-linecap:square;stroke-width:2;\"/>\n   </g>\n   <g id=\"line2d_94\">\n    <path clip-path=\"url(#p4970bb0ebd)\" d=\"M 83.240531 332.018766 \nL 77.808281 332.220648 \n\" style=\"fill:none;stroke:#008000;stroke-linecap:square;stroke-width:2;\"/>\n   </g>\n   <g id=\"line2d_95\">\n    <path clip-path=\"url(#p4970bb0ebd)\" d=\"M 77.808281 332.220648 \nL 72.384496 332.584852 \n\" style=\"fill:none;stroke:#008000;stroke-linecap:square;stroke-width:2;\"/>\n   </g>\n   <g id=\"line2d_96\">\n    <path clip-path=\"url(#p4970bb0ebd)\" d=\"M 72.384496 332.584852 \nL 66.977018 333.140989 \n\" style=\"fill:none;stroke:#008000;stroke-linecap:square;stroke-width:2;\"/>\n   </g>\n   <g id=\"patch_5\">\n    <path d=\"M 26.925 554.599219 \nL 26.925 10.999219 \n\" style=\"fill:none;stroke:#000000;stroke-linecap:square;stroke-linejoin:miter;stroke-width:0.8;\"/>\n   </g>\n   <g id=\"patch_6\">\n    <path d=\"M 570.525 554.599219 \nL 570.525 10.999219 \n\" style=\"fill:none;stroke:#000000;stroke-linecap:square;stroke-linejoin:miter;stroke-width:0.8;\"/>\n   </g>\n   <g id=\"patch_7\">\n    <path d=\"M 26.925 554.599219 \nL 570.525 554.599219 \n\" style=\"fill:none;stroke:#000000;stroke-linecap:square;stroke-linejoin:miter;stroke-width:0.8;\"/>\n   </g>\n   <g id=\"patch_8\">\n    <path d=\"M 26.925 10.999219 \nL 570.525 10.999219 \n\" style=\"fill:none;stroke:#000000;stroke-linecap:square;stroke-linejoin:miter;stroke-width:0.8;\"/>\n   </g>\n  </g>\n </g>\n <defs>\n  <clipPath id=\"p4970bb0ebd\">\n   <rect height=\"543.6\" width=\"543.6\" x=\"26.925\" y=\"10.999219\"/>\n  </clipPath>\n </defs>\n</svg>\n",
      "image/png": "[encoded data removed]"
     },
     "metadata": {
      "needs_background": "light"
     }
    }
   ],
   "source": [
    "# node_list.append( goal_node_final)\n",
    "if destination is None:\n",
    "    destination = goal_node\n",
    "    goal_node_final = goal_node\n",
    "nodes = visualize(viz, node_list, destination, goal_node, obs, False)"
   ]
  },
  {
   "cell_type": "code",
   "execution_count": 11,
   "metadata": {},
   "outputs": [
    {
     "output_type": "execute_result",
     "data": {
      "text/plain": [
       "False"
      ]
     },
     "metadata": {},
     "execution_count": 11
    }
   ],
   "source": [
    "isOnSpot(destination, goal_node)"
   ]
  },
  {
   "cell_type": "code",
   "execution_count": null,
   "metadata": {},
   "outputs": [],
   "source": [
    "goal_node_final.getState()"
   ]
  },
  {
   "cell_type": "code",
   "execution_count": null,
   "metadata": {},
   "outputs": [],
   "source": [
    "destination.getState()"
   ]
  },
  {
   "cell_type": "code",
   "execution_count": null,
   "metadata": {},
   "outputs": [],
   "source": []
  },
  {
   "cell_type": "code",
   "execution_count": null,
   "metadata": {},
   "outputs": [],
   "source": [
    "    fig, ax = plt.subplots(figsize = (10, 10))\n",
    "    ax.set(xlim=(0, 10), ylim = (0,10))\n",
    "    ax = viz.addObstacles2Map(ax)\n",
    "    ax.set_aspect(\"equal\")\n",
    "\n",
    "    i = 0\n",
    "    y = goal_node.getState()[1]\n",
    "    y_ = goal_node.getState()[1]\n",
    "    ax.scatter(goal_node.getState()[0], y)\n",
    "    theta = toRadian(goal_node.getState()[2])\n",
    "    while(i<10):\n",
    "        if goal_node.getState()[2] % 90 == 0:\n",
    "            x = goal_node.getState()[0]\n",
    "        else:\n",
    "            x = y/math.tan(theta)\n",
    "        i+=1\n",
    "        y+=0.1\n",
    "        y_-=0.1\n",
    "        ax.scatter(x,y)\n",
    "        ax.scatter(x,y_)\n"
   ]
  },
  {
   "cell_type": "code",
   "execution_count": null,
   "metadata": {},
   "outputs": [],
   "source": []
  },
  {
   "source": [
    "# Debugging 180 degree issue"
   ],
   "cell_type": "markdown",
   "metadata": {}
  },
  {
   "cell_type": "code",
   "execution_count": null,
   "metadata": {},
   "outputs": [],
   "source": [
    "height, width = 10, 10\n",
    "T = 0.5\n",
    "dt = 0.1\n",
    "threshold = 0.5\n",
    "rand_map = [width-1, height-1]\n",
    "start_point = [4,2,90,0]\n",
    "obs = Obstacle(0.0)\n",
    "viz = Visualization(obs)\n",
    "start_node = Node(start_point, None, None, 0, [])\n",
    "\n",
    "T = 1\n",
    "u_linear = 1\n",
    "u_steer1 = 0.5\n",
    "u_steer2 = 0.7"
   ]
  },
  {
   "cell_type": "code",
   "execution_count": null,
   "metadata": {},
   "outputs": [],
   "source": [
    "branches = getBranches(start_node, T, u_linear, u_steer1, u_steer2, obs)"
   ]
  },
  {
   "cell_type": "code",
   "execution_count": null,
   "metadata": {},
   "outputs": [],
   "source": [
    "fig, ax = plt.subplots(figsize = (10, 10))\n",
    "ax.set(xlim=(0, 10), ylim = (0,10))\n",
    "ax = viz.addObstacles2Map(ax)\n",
    "ax.set_aspect(\"equal\")\n",
    "for node in branches:\n",
    "    start_node  = node.getParent()\n",
    "    if start_node is not None:\n",
    "        xi, yi, _, _ = start_node.getState()\n",
    "        points = node.getPathArray()\n",
    "        if points is not None:\n",
    "            for point in points:\n",
    "                xn, yn = point\n",
    "                ax.plot([xi, xn], [yi, yn], color=\"blue\", linewidth = 0.3)\n",
    "                xi, yi = xn, yn"
   ]
  },
  {
   "cell_type": "code",
   "execution_count": null,
   "metadata": {},
   "outputs": [],
   "source": [
    "math.tan(1.50)"
   ]
  },
  {
   "cell_type": "code",
   "execution_count": null,
   "metadata": {},
   "outputs": [],
   "source": [
    "destination.getState()[2]"
   ]
  },
  {
   "cell_type": "code",
   "execution_count": null,
   "metadata": {},
   "outputs": [],
   "source": []
  },
  {
   "cell_type": "code",
   "execution_count": null,
   "metadata": {},
   "outputs": [],
   "source": [
    "# node_list.append( goal_node_final)\n",
    "if destination is None:\n",
    "    destination = goal_node\n",
    "    goal_node_final = goal_node\n",
    "nodes = visualize(viz, node_list, goal_node_final, goal_node, obs, False)"
   ]
  },
  {
   "cell_type": "code",
   "execution_count": null,
   "metadata": {},
   "outputs": [],
   "source": [
    "if destination is None:\n",
    "    destination = goal_node\n",
    "    goal_node_final = goal_node\n",
    "nodes = visualize(viz, node_list, goal_node_final, goal_node, obs, False)"
   ]
  },
  {
   "cell_type": "code",
   "execution_count": null,
   "metadata": {},
   "outputs": [],
   "source": []
  }
 ]
}