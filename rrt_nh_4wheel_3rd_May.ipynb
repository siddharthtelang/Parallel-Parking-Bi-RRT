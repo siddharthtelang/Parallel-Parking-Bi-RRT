{
 "metadata": {
  "language_info": {
   "codemirror_mode": {
    "name": "ipython",
    "version": 3
   },
   "file_extension": ".py",
   "mimetype": "text/x-python",
   "name": "python",
   "nbconvert_exporter": "python",
   "pygments_lexer": "ipython3",
   "version": "3.6.9"
  },
  "orig_nbformat": 2,
  "kernelspec": {
   "name": "python369jvsc74a57bd031f2aee4e71d21fbe5cf8b01ff0e069b9275f58929596ceb00d14d90e3e16cd6",
   "display_name": "Python 3.6.9 64-bit"
  },
  "metadata": {
   "interpreter": {
    "hash": "31f2aee4e71d21fbe5cf8b01ff0e069b9275f58929596ceb00d14d90e3e16cd6"
   }
  }
 },
 "nbformat": 4,
 "nbformat_minor": 2,
 "cells": [
  {
   "cell_type": "code",
   "execution_count": 1,
   "metadata": {},
   "outputs": [],
   "source": [
    "from Obstacle import *\n",
    "from Visualization import *\n",
    "import numpy as np\n",
    "import cv2\n",
    "import matplotlib.pyplot as plt\n",
    "import matplotlib.patches as patches\n",
    "from Utils.Node import *\n",
    "import math\n",
    "import queue\n",
    "import random\n",
    "import copy\n",
    "\n",
    "wheel_radius = 0.038\n",
    "wheel_distance = 0.354"
   ]
  },
  {
   "cell_type": "code",
   "execution_count": 2,
   "metadata": {},
   "outputs": [],
   "source": [
    "def halfRound(n):\n",
    "    return round(2*n)/2\n",
    "def toRadian(angle):\n",
    "    return np.pi * angle / 180\n",
    "def toDegree(angle):\n",
    "    return 180 * angle / np.pi"
   ]
  },
  {
   "cell_type": "code",
   "execution_count": 18,
   "metadata": {},
   "outputs": [],
   "source": [
    "def visualize(viz, traversed_nodes, destination, goal_node, obs, show_pass):\n",
    "    fig, ax = plt.subplots(figsize = (10, 10))\n",
    "    ax.set(xlim=(0, 10), ylim = (0,10))\n",
    "    ax = viz.addObstacles2Map(ax)\n",
    "    ax.set_aspect(\"equal\")\n",
    "    c = 0\n",
    "    print(len(traversed_nodes))\n",
    "    if show_pass:\n",
    "        for node in traversed_nodes:\n",
    "            start_node  = node.getParent()\n",
    "            if start_node is not None:\n",
    "                xi, yi, _, _ = start_node.getState()\n",
    "                points = node.getPathArray()\n",
    "                if points is not None:\n",
    "                    for point in points:\n",
    "                        xn, yn = point\n",
    "                        ax.plot([xi, xn], [yi, yn], color=\"blue\", linewidth = 0.3)\n",
    "                        xi, yi = xn, yn\n",
    "\n",
    "    # i = 0\n",
    "    # y = goal_node.getState()[1]\n",
    "    # y_ = goal_node.getState()[1]\n",
    "    # ax.scatter(goal_node.getState()[0], y)\n",
    "    # theta = toRadian(goal_node.getState()[2])\n",
    "    # while(i<10):\n",
    "    #     if goal_node.getState()[2] % 90 == 0:\n",
    "    #         x = goal_node.getState()[0]\n",
    "    #     else:\n",
    "    #         x = y/math.tan(theta)\n",
    "    #     i+=1\n",
    "    #     y+=0.1\n",
    "    #     y_-=0.1\n",
    "    #     ax.scatter(x,y)\n",
    "    #     ax.scatter(x,y_)\n",
    "\n",
    "    x, y = goal_node.getState()[:2]\n",
    "    x_, y_ = goal_node.getState()[:2]\n",
    "    theta = toRadian(goal_node.getState()[2])\n",
    "    ax.scatter(x,y)\n",
    "    d = 1\n",
    "    x = x + d*math.cos(theta)\n",
    "    y = y + d*math.sin(theta)\n",
    "    x_ = x_ - d*math.cos(theta)\n",
    "    y_ = y_ - d*math.sin(theta)\n",
    "    ax.plot([x, x_], [y, y_], color=\"red\", linewidth = 5)\n",
    "\n",
    "\n",
    "    current_node = copy.copy(destination)\n",
    "    nodes = []\n",
    "    while(current_node.getParent() is not None):\n",
    "        nodes.append(current_node)\n",
    "        current_node = current_node.getParent()\n",
    "    nodes.append(current_node)\n",
    "    nodes.reverse()\n",
    "\n",
    "    for node in nodes:\n",
    "        start_node  = node.getParent()\n",
    "        \n",
    "        if start_node is not None:\n",
    "            xi, yi, _, _ = start_node.getState()\n",
    "            points = node.getPathArray()\n",
    "            if points is not None:\n",
    "                for point in points:\n",
    "                    xn, yn = point[:2]                  \n",
    "                    ax.plot([xi, xn], [yi, yn], color=\"green\", linewidth = 2)\n",
    "                    xi, yi = xn, yn\n",
    "    a = str(random.randint(1,1000))\n",
    "    plt.savefig(a + '.png')\n",
    "    return nodes\n"
   ]
  },
  {
   "cell_type": "code",
   "execution_count": 14,
   "metadata": {},
   "outputs": [],
   "source": [
    "def getBranches(node, T, u_linear, u_steer1, u_steer2, obs):\n",
    "    actions=[[u_linear, 0], [u_linear, u_steer1], [u_linear, -u_steer1], [u_linear, u_steer2], [u_linear, -u_steer2],[-u_linear, 0], [-u_linear, u_steer1], [-u_linear, -u_steer1], [-u_linear, u_steer2], [-u_linear, -u_steer2]]\n",
    "    state = node.getState()\n",
    "    branches = []\n",
    "\n",
    "    for action in actions:\n",
    "        new_state, path_array, cost = move(state, action, T, obs)\n",
    "        if new_state is not None:\n",
    "            branch_node = Node(new_state, node, action, node.getCost() + cost, path_array)\n",
    "            branches.append(branch_node)\n",
    "              \n",
    "    return branches"
   ]
  },
  {
   "cell_type": "code",
   "execution_count": 5,
   "metadata": {},
   "outputs": [],
   "source": [
    "def isOnSpot(current, final):\n",
    "    x_current, y_current, theta_current = current.getState()[:3]\n",
    "    x_goal, y_goal, theta_goal = final.getState()[:3]\n",
    "\n",
    "    theta_goal = toRadian(theta_goal)\n",
    "    theta_current = toRadian(theta_current)\n",
    "    \n",
    "    m  = math.tan(theta_goal)\n",
    "    if abs(theta_goal) == 90 or abs(theta_goal) == 270:\n",
    "        c = 0\n",
    "    else:\n",
    "        c = y_goal - x_goal*m\n",
    "    error = y_current - x_current*math.tan(theta_goal) - c\n",
    "\n",
    "    if (abs(theta_goal) > 265 and abs(theta_goal) < 275) or (abs(theta_goal) > 85 and abs(theta_goal) < 95):\n",
    "        error = x_current - x_goal\n",
    "    d, _ = calculate_d_and_theta(current.getState(), final.getState())\n",
    "    # print(d)\n",
    "    # print(error)\n",
    "    # print(_)\n",
    "    return (abs(error) < 0.5 and d < 0.5)"
   ]
  },
  {
   "cell_type": "code",
   "execution_count": 6,
   "metadata": {},
   "outputs": [],
   "source": [
    "def move(state, action, T, obs):\n",
    "    t = 0\n",
    "    dt = 0.1\n",
    "    \n",
    "    Xi, Yi, thetai, steeri = state\n",
    "    thetai = toRadian(thetai)\n",
    "    steeri = toRadian(steeri)\n",
    "\n",
    "    u_linear, u_steer = action \n",
    "\n",
    "    Xn = Xi\n",
    "    Yn = Yi\n",
    "    thetan = thetai\n",
    "    steern = steeri\n",
    "\n",
    "    path_array = []\n",
    "    cost = 0.0\n",
    "    path_array.append([Xn, Yn])\n",
    "    a = 1\n",
    "    while t<T:\n",
    "        t = t + dt\n",
    "        steern += dt * u_steer\n",
    "        if steern > np.pi / 4:\n",
    "            steern = np.pi / 4\n",
    "        if steern < -np.pi / 4:\n",
    "            steern = -np.pi / 4\n",
    "\n",
    "        thetan += (np.tan(steern) / a ) * u_linear * dt\n",
    "        dx = u_linear * math.cos(thetan) * dt\n",
    "        dy = u_linear * math.sin(thetan) * dt\n",
    "\n",
    "        Xn += dx\n",
    "        Yn += dy\n",
    "\n",
    "        cost += math.sqrt(math.pow(dx,2) + math.pow(dy,2))\n",
    "        path_array.append([Xn, Yn])\n",
    "\n",
    "        if obs.isInObstacleSpace(Xn, Yn):\n",
    "            return None, None, None\n",
    "        \n",
    "    thetan = int(toDegree(thetan))\n",
    "    steern = int(toDegree(steern))\n",
    "    return [Xn, Yn, thetan, steern] , path_array, cost"
   ]
  },
  {
   "cell_type": "code",
   "execution_count": 7,
   "metadata": {},
   "outputs": [],
   "source": [
    "def getRandomNode():\n",
    "    a = random.uniform(-np.pi, np.pi)\n",
    "    # print(a)\n",
    "    state = [random.uniform(0, 9), random.uniform(0,9), random.uniform(0, 360), 0]\n",
    "    return Node(state, None, None, None, None)\n",
    "\n",
    "def getNearestNodeIndex(node_list, random_point):\n",
    "    distance = []\n",
    "    # print(random_point)\n",
    "    for node in node_list:\n",
    "        node_pts = node.getState()\n",
    "        alpha = 0.2\n",
    "        d = (((node_pts[0] - random_point[0])**2 + (node_pts[1] - random_point[1])**2) + alpha *(np.abs(node_pts[2] - random_point[2]))) ** 0.5\n",
    "        distance.append(d)\n",
    "    min_idx = distance.index(min(distance))\n",
    "\n",
    "    return min_idx\n",
    "\n",
    "def calculate_d_and_theta(start, end):\n",
    "    dx = end[0] - start[0]\n",
    "    dy = end[1] - start[1]\n",
    "    d = math.hypot(dx, dy)\n",
    "    theta = math.atan2(dy, dx)\n",
    "    return d, theta\n",
    "\n",
    "def getNewNode(nearest_node, random_point, obs):\n",
    "    T = 1\n",
    "    u_linear = 1\n",
    "    u_steer1 = 0.2\n",
    "    u_steer2 = 0.5\n",
    "    sample_distance = 0.25\n",
    "\n",
    "    nearest_point = nearest_node.getState()\n",
    "\n",
    "    if obs.isInObstacleSpace(nearest_point[0], nearest_point[1]):\n",
    "        print('Nearest point in OBSTACLE SPACE')\n",
    "    \n",
    "    _, theta = calculate_d_and_theta(nearest_point, random_point)\n",
    "    ref_state = [sample_distance*math.cos(theta), sample_distance*math.sin(theta), random_point[2], 0]\n",
    "\n",
    "    branches = getBranches(nearest_node, T, u_linear, u_steer1, u_steer2, obs)\n",
    "    if (len(branches) > 0):\n",
    "        branch_idx = getNearestNodeIndex(branches, ref_state)\n",
    "        new_node = branches[branch_idx]\n",
    "    else:\n",
    "        new_node = None\n",
    "\n",
    "    return new_node\n"
   ]
  },
  {
   "cell_type": "code",
   "execution_count": 11,
   "metadata": {
    "tags": []
   },
   "outputs": [
    {
     "output_type": "stream",
     "name": "stdout",
     "text": [
      "Final node get state =  [1.8577410207364475, 4.047167847521382, 178, 5]\n",
      "Goal Reached, cost =  15.399999999999997\n",
      "inf\n",
      "Update final node cost, state =  4 ,  8\n",
      "from:  inf  to : 15.399999999999997\n",
      "------------------------\n",
      "Final node get state =  [1.7983962486535316, 3.7299946783640596, 176, -13]\n",
      "Goal Reached, cost =  17.599999999999998\n",
      "15.399999999999997\n",
      "------------------------\n"
     ]
    }
   ],
   "source": [
    "height, width = 10, 10\n",
    "T = 1\n",
    "dt = 0.1\n",
    "threshold = 0.5\n",
    "rand_map = [width-1, height-1]\n",
    "start_point = [9,9,180,0]\n",
    "goal_state = [2,4,180,0]\n",
    "obs = Obstacle(0.0)\n",
    "viz = Visualization(obs)\n",
    "\n",
    "node_array = np.array([[[math.inf for k in range(360)] for j in range(int(height/threshold))] for i in range(int(width/threshold))])\n",
    "\n",
    "goal_reached = False\n",
    "start_node = Node(start_point, None, None, 0, [])\n",
    "goal_node = Node(goal_state, None, None, math.inf, [])\n",
    "final_node = None\n",
    "node_list = [start_node]\n",
    "goal_node_final = None\n",
    "destination = None\n",
    "\n",
    "for i in range(1000):\n",
    "    random_node = getRandomNode()\n",
    "    if (random_node == None):\n",
    "        continue\n",
    "    # ax.scatter(random_node.getState()[0], random_node.getState()[1])\n",
    "    nearest_idx = getNearestNodeIndex(node_list, random_node.getState())\n",
    "    nearest_node = node_list[nearest_idx]\n",
    "\n",
    "    new_node = getNewNode(nearest_node, random_node.getState(), obs)\n",
    "    if (new_node == None):\n",
    "        continue\n",
    "\n",
    "    node_list.append(new_node)\n",
    "    x_new = int(halfRound(new_node.getState()[0])/threshold)\n",
    "    y_new = int(halfRound(new_node.getState()[1])/threshold)\n",
    "    d_goal = ((node_list[-1].getState()[0]- goal_state[0])**2 + (node_list[-1].getState()[1]- goal_state[1])**2)**0.5 \n",
    "    d_angle = np.abs((node_list[-1].getState()[2]- goal_state[2]))\n",
    "\n",
    "    is_on_spot = isOnSpot(node_list[-1], goal_node) \n",
    "    if (is_on_spot and d_angle < 5):\n",
    "        print('Final node get state = ',new_node.getState())\n",
    "        if not obs.isInObstacleSpace(new_node.getState()[0], new_node.getState()[1]):\n",
    "            print('Goal Reached, cost = ', new_node.getCost())\n",
    "            x_goal = int(halfRound(goal_node.getState()[0])/threshold)\n",
    "            y_goal = int(halfRound(goal_node.getState()[1])/threshold)\n",
    "            print(node_array[x_goal, y_goal, 0])\n",
    "            if (new_node.getCost() <  node_array[x_goal, y_goal, 0]):\n",
    "                print('Update final node cost, state = ', x_goal, ', ',y_goal)\n",
    "                print('from: ', node_array[x_goal, y_goal, 0], ' to :', new_node.getCost())\n",
    "                node_array[x_goal,y_goal,0] = new_node.getCost() \n",
    "                goal_node_final = new_node\n",
    "            print('------------------------')\n",
    "\n",
    "# steer to goal\n",
    "if goal_node_final is not None:\n",
    "    node_list.append(goal_node_final)\n",
    "    destination = getNewNode(goal_node_final, goal_node.getState(), obs)\n",
    "    node_list.append(destination)"
   ]
  },
  {
   "cell_type": "code",
   "execution_count": 19,
   "metadata": {},
   "outputs": [
    {
     "output_type": "stream",
     "name": "stdout",
     "text": [
      "1003\n"
     ]
    },
    {
     "output_type": "display_data",
     "data": {
      "text/plain": "<Figure size 720x720 with 1 Axes>",
      "image/svg+xml": "<?xml version=\"1.0\" encoding=\"utf-8\" standalone=\"no\"?>\n<!DOCTYPE svg PUBLIC \"-//W3C//DTD SVG 1.1//EN\"\n  \"http://www.w3.org/Graphics/SVG/1.1/DTD/svg11.dtd\">\n<!-- Created with matplotlib (https://matplotlib.org/) -->\n<svg height=\"578.477344pt\" version=\"1.1\" viewBox=\"0 0 584.0875 578.477344\" width=\"584.0875pt\" xmlns=\"http://www.w3.org/2000/svg\" xmlns:xlink=\"http://www.w3.org/1999/xlink\">\n <metadata>\n  <rdf:RDF xmlns:cc=\"http://creativecommons.org/ns#\" xmlns:dc=\"http://purl.org/dc/elements/1.1/\" xmlns:rdf=\"http://www.w3.org/1999/02/22-rdf-syntax-ns#\">\n   <cc:Work>\n    <dc:type rdf:resource=\"http://purl.org/dc/dcmitype/StillImage\"/>\n    <dc:date>2021-05-03T23:12:52.250901</dc:date>\n    <dc:format>image/svg+xml</dc:format>\n    <dc:creator>\n     <cc:Agent>\n      <dc:title>Matplotlib v3.3.4, https://matplotlib.org/</dc:title>\n     </cc:Agent>\n    </dc:creator>\n   </cc:Work>\n  </rdf:RDF>\n </metadata>\n <defs>\n  <style type=\"text/css\">*{stroke-linecap:butt;stroke-linejoin:round;}</style>\n </defs>\n <g id=\"figure_1\">\n  <g id=\"patch_1\">\n   <path d=\"M 0 578.477344 \nL 584.0875 578.477344 \nL 584.0875 0 \nL 0 0 \nz\n\" style=\"fill:none;\"/>\n  </g>\n  <g id=\"axes_1\">\n   <g id=\"patch_2\">\n    <path d=\"M 26.925 554.599219 \nL 570.525 554.599219 \nL 570.525 10.999219 \nL 26.925 10.999219 \nz\n\" style=\"fill:#ffffff;\"/>\n   </g>\n   <g id=\"PathCollection_1\">\n    <defs>\n     <path d=\"M 0 3 \nC 0.795609 3 1.55874 2.683901 2.12132 2.12132 \nC 2.683901 1.55874 3 0.795609 3 0 \nC 3 -0.795609 2.683901 -1.55874 2.12132 -2.12132 \nC 1.55874 -2.683901 0.795609 -3 0 -3 \nC -0.795609 -3 -1.55874 -2.683901 -2.12132 -2.12132 \nC -2.683901 -1.55874 -3 -0.795609 -3 0 \nC -3 0.795609 -2.683901 1.55874 -2.12132 2.12132 \nC -1.55874 2.683901 -0.795609 3 0 3 \nz\n\" id=\"m5854e7758f\" style=\"stroke:#1f77b4;\"/>\n    </defs>\n    <g clip-path=\"url(#p1fd200d1e4)\">\n     <use style=\"fill:#1f77b4;stroke:#1f77b4;\" x=\"135.645\" xlink:href=\"#m5854e7758f\" y=\"337.159219\"/>\n    </g>\n   </g>\n   <g id=\"patch_3\">\n    <path clip-path=\"url(#p1fd200d1e4)\" d=\"M 17.30328 414.730939 \nL 199.62672 414.730939 \nL 199.62672 394.943899 \nL 17.30328 394.943899 \nz\n\" style=\"fill:none;stroke:#ff0000;stroke-linejoin:miter;\"/>\n   </g>\n   <g id=\"patch_4\">\n    <path clip-path=\"url(#p1fd200d1e4)\" d=\"M 17.30328 224.470939 \nL 199.62672 224.470939 \nL 199.62672 204.683899 \nL 17.30328 204.683899 \nz\n\" style=\"fill:none;stroke:#ff0000;stroke-linejoin:miter;\"/>\n   </g>\n   <g id=\"matplotlib.axis_1\">\n    <g id=\"xtick_1\">\n     <g id=\"line2d_1\">\n      <defs>\n       <path d=\"M 0 0 \nL 0 3.5 \n\" id=\"mb424cbef71\" style=\"stroke:#000000;stroke-width:0.8;\"/>\n      </defs>\n      <g>\n       <use style=\"stroke:#000000;stroke-width:0.8;\" x=\"26.925\" xlink:href=\"#mb424cbef71\" y=\"554.599219\"/>\n      </g>\n     </g>\n     <g id=\"text_1\">\n      <!-- 0 -->\n      <g transform=\"translate(23.74375 569.197656)scale(0.1 -0.1)\">\n       <defs>\n        <path d=\"M 31.78125 66.40625 \nQ 24.171875 66.40625 20.328125 58.90625 \nQ 16.5 51.421875 16.5 36.375 \nQ 16.5 21.390625 20.328125 13.890625 \nQ 24.171875 6.390625 31.78125 6.390625 \nQ 39.453125 6.390625 43.28125 13.890625 \nQ 47.125 21.390625 47.125 36.375 \nQ 47.125 51.421875 43.28125 58.90625 \nQ 39.453125 66.40625 31.78125 66.40625 \nz\nM 31.78125 74.21875 \nQ 44.046875 74.21875 50.515625 64.515625 \nQ 56.984375 54.828125 56.984375 36.375 \nQ 56.984375 17.96875 50.515625 8.265625 \nQ 44.046875 -1.421875 31.78125 -1.421875 \nQ 19.53125 -1.421875 13.0625 8.265625 \nQ 6.59375 17.96875 6.59375 36.375 \nQ 6.59375 54.828125 13.0625 64.515625 \nQ 19.53125 74.21875 31.78125 74.21875 \nz\n\" id=\"DejaVuSans-48\"/>\n       </defs>\n       <use xlink:href=\"#DejaVuSans-48\"/>\n      </g>\n     </g>\n    </g>\n    <g id=\"xtick_2\">\n     <g id=\"line2d_2\">\n      <g>\n       <use style=\"stroke:#000000;stroke-width:0.8;\" x=\"135.645\" xlink:href=\"#mb424cbef71\" y=\"554.599219\"/>\n      </g>\n     </g>\n     <g id=\"text_2\">\n      <!-- 2 -->\n      <g transform=\"translate(132.46375 569.197656)scale(0.1 -0.1)\">\n       <defs>\n        <path d=\"M 19.1875 8.296875 \nL 53.609375 8.296875 \nL 53.609375 0 \nL 7.328125 0 \nL 7.328125 8.296875 \nQ 12.9375 14.109375 22.625 23.890625 \nQ 32.328125 33.6875 34.8125 36.53125 \nQ 39.546875 41.84375 41.421875 45.53125 \nQ 43.3125 49.21875 43.3125 52.78125 \nQ 43.3125 58.59375 39.234375 62.25 \nQ 35.15625 65.921875 28.609375 65.921875 \nQ 23.96875 65.921875 18.8125 64.3125 \nQ 13.671875 62.703125 7.8125 59.421875 \nL 7.8125 69.390625 \nQ 13.765625 71.78125 18.9375 73 \nQ 24.125 74.21875 28.421875 74.21875 \nQ 39.75 74.21875 46.484375 68.546875 \nQ 53.21875 62.890625 53.21875 53.421875 \nQ 53.21875 48.921875 51.53125 44.890625 \nQ 49.859375 40.875 45.40625 35.40625 \nQ 44.1875 33.984375 37.640625 27.21875 \nQ 31.109375 20.453125 19.1875 8.296875 \nz\n\" id=\"DejaVuSans-50\"/>\n       </defs>\n       <use xlink:href=\"#DejaVuSans-50\"/>\n      </g>\n     </g>\n    </g>\n    <g id=\"xtick_3\">\n     <g id=\"line2d_3\">\n      <g>\n       <use style=\"stroke:#000000;stroke-width:0.8;\" x=\"244.365\" xlink:href=\"#mb424cbef71\" y=\"554.599219\"/>\n      </g>\n     </g>\n     <g id=\"text_3\">\n      <!-- 4 -->\n      <g transform=\"translate(241.18375 569.197656)scale(0.1 -0.1)\">\n       <defs>\n        <path d=\"M 37.796875 64.3125 \nL 12.890625 25.390625 \nL 37.796875 25.390625 \nz\nM 35.203125 72.90625 \nL 47.609375 72.90625 \nL 47.609375 25.390625 \nL 58.015625 25.390625 \nL 58.015625 17.1875 \nL 47.609375 17.1875 \nL 47.609375 0 \nL 37.796875 0 \nL 37.796875 17.1875 \nL 4.890625 17.1875 \nL 4.890625 26.703125 \nz\n\" id=\"DejaVuSans-52\"/>\n       </defs>\n       <use xlink:href=\"#DejaVuSans-52\"/>\n      </g>\n     </g>\n    </g>\n    <g id=\"xtick_4\">\n     <g id=\"line2d_4\">\n      <g>\n       <use style=\"stroke:#000000;stroke-width:0.8;\" x=\"353.085\" xlink:href=\"#mb424cbef71\" y=\"554.599219\"/>\n      </g>\n     </g>\n     <g id=\"text_4\">\n      <!-- 6 -->\n      <g transform=\"translate(349.90375 569.197656)scale(0.1 -0.1)\">\n       <defs>\n        <path d=\"M 33.015625 40.375 \nQ 26.375 40.375 22.484375 35.828125 \nQ 18.609375 31.296875 18.609375 23.390625 \nQ 18.609375 15.53125 22.484375 10.953125 \nQ 26.375 6.390625 33.015625 6.390625 \nQ 39.65625 6.390625 43.53125 10.953125 \nQ 47.40625 15.53125 47.40625 23.390625 \nQ 47.40625 31.296875 43.53125 35.828125 \nQ 39.65625 40.375 33.015625 40.375 \nz\nM 52.59375 71.296875 \nL 52.59375 62.3125 \nQ 48.875 64.0625 45.09375 64.984375 \nQ 41.3125 65.921875 37.59375 65.921875 \nQ 27.828125 65.921875 22.671875 59.328125 \nQ 17.53125 52.734375 16.796875 39.40625 \nQ 19.671875 43.65625 24.015625 45.921875 \nQ 28.375 48.1875 33.59375 48.1875 \nQ 44.578125 48.1875 50.953125 41.515625 \nQ 57.328125 34.859375 57.328125 23.390625 \nQ 57.328125 12.15625 50.6875 5.359375 \nQ 44.046875 -1.421875 33.015625 -1.421875 \nQ 20.359375 -1.421875 13.671875 8.265625 \nQ 6.984375 17.96875 6.984375 36.375 \nQ 6.984375 53.65625 15.1875 63.9375 \nQ 23.390625 74.21875 37.203125 74.21875 \nQ 40.921875 74.21875 44.703125 73.484375 \nQ 48.484375 72.75 52.59375 71.296875 \nz\n\" id=\"DejaVuSans-54\"/>\n       </defs>\n       <use xlink:href=\"#DejaVuSans-54\"/>\n      </g>\n     </g>\n    </g>\n    <g id=\"xtick_5\">\n     <g id=\"line2d_5\">\n      <g>\n       <use style=\"stroke:#000000;stroke-width:0.8;\" x=\"461.805\" xlink:href=\"#mb424cbef71\" y=\"554.599219\"/>\n      </g>\n     </g>\n     <g id=\"text_5\">\n      <!-- 8 -->\n      <g transform=\"translate(458.62375 569.197656)scale(0.1 -0.1)\">\n       <defs>\n        <path d=\"M 31.78125 34.625 \nQ 24.75 34.625 20.71875 30.859375 \nQ 16.703125 27.09375 16.703125 20.515625 \nQ 16.703125 13.921875 20.71875 10.15625 \nQ 24.75 6.390625 31.78125 6.390625 \nQ 38.8125 6.390625 42.859375 10.171875 \nQ 46.921875 13.96875 46.921875 20.515625 \nQ 46.921875 27.09375 42.890625 30.859375 \nQ 38.875 34.625 31.78125 34.625 \nz\nM 21.921875 38.8125 \nQ 15.578125 40.375 12.03125 44.71875 \nQ 8.5 49.078125 8.5 55.328125 \nQ 8.5 64.0625 14.71875 69.140625 \nQ 20.953125 74.21875 31.78125 74.21875 \nQ 42.671875 74.21875 48.875 69.140625 \nQ 55.078125 64.0625 55.078125 55.328125 \nQ 55.078125 49.078125 51.53125 44.71875 \nQ 48 40.375 41.703125 38.8125 \nQ 48.828125 37.15625 52.796875 32.3125 \nQ 56.78125 27.484375 56.78125 20.515625 \nQ 56.78125 9.90625 50.3125 4.234375 \nQ 43.84375 -1.421875 31.78125 -1.421875 \nQ 19.734375 -1.421875 13.25 4.234375 \nQ 6.78125 9.90625 6.78125 20.515625 \nQ 6.78125 27.484375 10.78125 32.3125 \nQ 14.796875 37.15625 21.921875 38.8125 \nz\nM 18.3125 54.390625 \nQ 18.3125 48.734375 21.84375 45.5625 \nQ 25.390625 42.390625 31.78125 42.390625 \nQ 38.140625 42.390625 41.71875 45.5625 \nQ 45.3125 48.734375 45.3125 54.390625 \nQ 45.3125 60.0625 41.71875 63.234375 \nQ 38.140625 66.40625 31.78125 66.40625 \nQ 25.390625 66.40625 21.84375 63.234375 \nQ 18.3125 60.0625 18.3125 54.390625 \nz\n\" id=\"DejaVuSans-56\"/>\n       </defs>\n       <use xlink:href=\"#DejaVuSans-56\"/>\n      </g>\n     </g>\n    </g>\n    <g id=\"xtick_6\">\n     <g id=\"line2d_6\">\n      <g>\n       <use style=\"stroke:#000000;stroke-width:0.8;\" x=\"570.525\" xlink:href=\"#mb424cbef71\" y=\"554.599219\"/>\n      </g>\n     </g>\n     <g id=\"text_6\">\n      <!-- 10 -->\n      <g transform=\"translate(564.1625 569.197656)scale(0.1 -0.1)\">\n       <defs>\n        <path d=\"M 12.40625 8.296875 \nL 28.515625 8.296875 \nL 28.515625 63.921875 \nL 10.984375 60.40625 \nL 10.984375 69.390625 \nL 28.421875 72.90625 \nL 38.28125 72.90625 \nL 38.28125 8.296875 \nL 54.390625 8.296875 \nL 54.390625 0 \nL 12.40625 0 \nz\n\" id=\"DejaVuSans-49\"/>\n       </defs>\n       <use xlink:href=\"#DejaVuSans-49\"/>\n       <use x=\"63.623047\" xlink:href=\"#DejaVuSans-48\"/>\n      </g>\n     </g>\n    </g>\n   </g>\n   <g id=\"matplotlib.axis_2\">\n    <g id=\"ytick_1\">\n     <g id=\"line2d_7\">\n      <defs>\n       <path d=\"M 0 0 \nL -3.5 0 \n\" id=\"mc2a5438870\" style=\"stroke:#000000;stroke-width:0.8;\"/>\n      </defs>\n      <g>\n       <use style=\"stroke:#000000;stroke-width:0.8;\" x=\"26.925\" xlink:href=\"#mc2a5438870\" y=\"554.599219\"/>\n      </g>\n     </g>\n     <g id=\"text_7\">\n      <!-- 0 -->\n      <g transform=\"translate(13.5625 558.398438)scale(0.1 -0.1)\">\n       <use xlink:href=\"#DejaVuSans-48\"/>\n      </g>\n     </g>\n    </g>\n    <g id=\"ytick_2\">\n     <g id=\"line2d_8\">\n      <g>\n       <use style=\"stroke:#000000;stroke-width:0.8;\" x=\"26.925\" xlink:href=\"#mc2a5438870\" y=\"445.879219\"/>\n      </g>\n     </g>\n     <g id=\"text_8\">\n      <!-- 2 -->\n      <g transform=\"translate(13.5625 449.678438)scale(0.1 -0.1)\">\n       <use xlink:href=\"#DejaVuSans-50\"/>\n      </g>\n     </g>\n    </g>\n    <g id=\"ytick_3\">\n     <g id=\"line2d_9\">\n      <g>\n       <use style=\"stroke:#000000;stroke-width:0.8;\" x=\"26.925\" xlink:href=\"#mc2a5438870\" y=\"337.159219\"/>\n      </g>\n     </g>\n     <g id=\"text_9\">\n      <!-- 4 -->\n      <g transform=\"translate(13.5625 340.958438)scale(0.1 -0.1)\">\n       <use xlink:href=\"#DejaVuSans-52\"/>\n      </g>\n     </g>\n    </g>\n    <g id=\"ytick_4\">\n     <g id=\"line2d_10\">\n      <g>\n       <use style=\"stroke:#000000;stroke-width:0.8;\" x=\"26.925\" xlink:href=\"#mc2a5438870\" y=\"228.439219\"/>\n      </g>\n     </g>\n     <g id=\"text_10\">\n      <!-- 6 -->\n      <g transform=\"translate(13.5625 232.238438)scale(0.1 -0.1)\">\n       <use xlink:href=\"#DejaVuSans-54\"/>\n      </g>\n     </g>\n    </g>\n    <g id=\"ytick_5\">\n     <g id=\"line2d_11\">\n      <g>\n       <use style=\"stroke:#000000;stroke-width:0.8;\" x=\"26.925\" xlink:href=\"#mc2a5438870\" y=\"119.719219\"/>\n      </g>\n     </g>\n     <g id=\"text_11\">\n      <!-- 8 -->\n      <g transform=\"translate(13.5625 123.518438)scale(0.1 -0.1)\">\n       <use xlink:href=\"#DejaVuSans-56\"/>\n      </g>\n     </g>\n    </g>\n    <g id=\"ytick_6\">\n     <g id=\"line2d_12\">\n      <g>\n       <use style=\"stroke:#000000;stroke-width:0.8;\" x=\"26.925\" xlink:href=\"#mc2a5438870\" y=\"10.999219\"/>\n      </g>\n     </g>\n     <g id=\"text_12\">\n      <!-- 10 -->\n      <g transform=\"translate(7.2 14.798438)scale(0.1 -0.1)\">\n       <use xlink:href=\"#DejaVuSans-49\"/>\n       <use x=\"63.623047\" xlink:href=\"#DejaVuSans-48\"/>\n      </g>\n     </g>\n    </g>\n   </g>\n   <g id=\"line2d_13\">\n    <path clip-path=\"url(#p1fd200d1e4)\" d=\"M 81.285 337.159219 \nL 190.005 337.159219 \n\" style=\"fill:none;stroke:#ff0000;stroke-linecap:square;stroke-width:5;\"/>\n   </g>\n   <g id=\"line2d_14\">\n    <path clip-path=\"url(#p1fd200d1e4)\" d=\"M 516.165 65.359219 \nL 516.165 65.359219 \n\" style=\"fill:none;stroke:#008000;stroke-linecap:square;stroke-width:2;\"/>\n   </g>\n   <g id=\"line2d_15\">\n    <path clip-path=\"url(#p1fd200d1e4)\" d=\"M 516.165 65.359219 \nL 510.729068 65.332016 \n\" style=\"fill:none;stroke:#008000;stroke-linecap:square;stroke-width:2;\"/>\n   </g>\n   <g id=\"line2d_16\">\n    <path clip-path=\"url(#p1fd200d1e4)\" d=\"M 510.729068 65.332016 \nL 505.293683 65.250275 \n\" style=\"fill:none;stroke:#008000;stroke-linecap:square;stroke-width:2;\"/>\n   </g>\n   <g id=\"line2d_17\">\n    <path clip-path=\"url(#p1fd200d1e4)\" d=\"M 505.293683 65.250275 \nL 499.860153 65.086398 \n\" style=\"fill:none;stroke:#008000;stroke-linecap:square;stroke-width:2;\"/>\n   </g>\n   <g id=\"line2d_18\">\n    <path clip-path=\"url(#p1fd200d1e4)\" d=\"M 499.860153 65.086398 \nL 494.431062 64.812419 \n\" style=\"fill:none;stroke:#008000;stroke-linecap:square;stroke-width:2;\"/>\n   </g>\n   <g id=\"line2d_19\">\n    <path clip-path=\"url(#p1fd200d1e4)\" d=\"M 494.431062 64.812419 \nL 489.010736 64.399917 \n\" style=\"fill:none;stroke:#008000;stroke-linecap:square;stroke-width:2;\"/>\n   </g>\n   <g id=\"line2d_20\">\n    <path clip-path=\"url(#p1fd200d1e4)\" d=\"M 489.010736 64.399917 \nL 483.605761 63.819969 \n\" style=\"fill:none;stroke:#008000;stroke-linecap:square;stroke-width:2;\"/>\n   </g>\n   <g id=\"line2d_21\">\n    <path clip-path=\"url(#p1fd200d1e4)\" d=\"M 483.605761 63.819969 \nL 478.225551 63.043154 \n\" style=\"fill:none;stroke:#008000;stroke-linecap:square;stroke-width:2;\"/>\n   </g>\n   <g id=\"line2d_22\">\n    <path clip-path=\"url(#p1fd200d1e4)\" d=\"M 478.225551 63.043154 \nL 472.882983 62.03963 \n\" style=\"fill:none;stroke:#008000;stroke-linecap:square;stroke-width:2;\"/>\n   </g>\n   <g id=\"line2d_23\">\n    <path clip-path=\"url(#p1fd200d1e4)\" d=\"M 472.882983 62.03963 \nL 467.595104 60.7793 \n\" style=\"fill:none;stroke:#008000;stroke-linecap:square;stroke-width:2;\"/>\n   </g>\n   <g id=\"line2d_24\">\n    <path clip-path=\"url(#p1fd200d1e4)\" d=\"M 467.595104 60.7793 \nL 462.383931 59.232117 \n\" style=\"fill:none;stroke:#008000;stroke-linecap:square;stroke-width:2;\"/>\n   </g>\n   <g id=\"line2d_25\">\n    <path clip-path=\"url(#p1fd200d1e4)\" d=\"M 462.383931 59.232117 \nL 457.277349 57.368541 \n\" style=\"fill:none;stroke:#008000;stroke-linecap:square;stroke-width:2;\"/>\n   </g>\n   <g id=\"line2d_26\">\n    <path clip-path=\"url(#p1fd200d1e4)\" d=\"M 457.277349 57.368541 \nL 457.277349 57.368541 \n\" style=\"fill:none;stroke:#008000;stroke-linecap:square;stroke-width:2;\"/>\n   </g>\n   <g id=\"line2d_27\">\n    <path clip-path=\"url(#p1fd200d1e4)\" d=\"M 457.277349 57.368541 \nL 452.313782 55.151989 \n\" style=\"fill:none;stroke:#008000;stroke-linecap:square;stroke-width:2;\"/>\n   </g>\n   <g id=\"line2d_28\">\n    <path clip-path=\"url(#p1fd200d1e4)\" d=\"M 452.313782 55.151989 \nL 447.460343 52.70368 \n\" style=\"fill:none;stroke:#008000;stroke-linecap:square;stroke-width:2;\"/>\n   </g>\n   <g id=\"line2d_29\">\n    <path clip-path=\"url(#p1fd200d1e4)\" d=\"M 447.460343 52.70368 \nL 442.711938 50.057408 \n\" style=\"fill:none;stroke:#008000;stroke-linecap:square;stroke-width:2;\"/>\n   </g>\n   <g id=\"line2d_30\">\n    <path clip-path=\"url(#p1fd200d1e4)\" d=\"M 442.711938 50.057408 \nL 438.060427 47.244308 \n\" style=\"fill:none;stroke:#008000;stroke-linecap:square;stroke-width:2;\"/>\n   </g>\n   <g id=\"line2d_31\">\n    <path clip-path=\"url(#p1fd200d1e4)\" d=\"M 438.060427 47.244308 \nL 433.495259 44.29315 \n\" style=\"fill:none;stroke:#008000;stroke-linecap:square;stroke-width:2;\"/>\n   </g>\n   <g id=\"line2d_32\">\n    <path clip-path=\"url(#p1fd200d1e4)\" d=\"M 433.495259 44.29315 \nL 429.004011 41.230668 \n\" style=\"fill:none;stroke:#008000;stroke-linecap:square;stroke-width:2;\"/>\n   </g>\n   <g id=\"line2d_33\">\n    <path clip-path=\"url(#p1fd200d1e4)\" d=\"M 429.004011 41.230668 \nL 424.572832 38.081899 \n\" style=\"fill:none;stroke:#008000;stroke-linecap:square;stroke-width:2;\"/>\n   </g>\n   <g id=\"line2d_34\">\n    <path clip-path=\"url(#p1fd200d1e4)\" d=\"M 424.572832 38.081899 \nL 420.186809 34.870529 \n\" style=\"fill:none;stroke:#008000;stroke-linecap:square;stroke-width:2;\"/>\n   </g>\n   <g id=\"line2d_35\">\n    <path clip-path=\"url(#p1fd200d1e4)\" d=\"M 420.186809 34.870529 \nL 415.830289 31.619247 \n\" style=\"fill:none;stroke:#008000;stroke-linecap:square;stroke-width:2;\"/>\n   </g>\n   <g id=\"line2d_36\">\n    <path clip-path=\"url(#p1fd200d1e4)\" d=\"M 415.830289 31.619247 \nL 411.487161 28.350098 \n\" style=\"fill:none;stroke:#008000;stroke-linecap:square;stroke-width:2;\"/>\n   </g>\n   <g id=\"line2d_37\">\n    <path clip-path=\"url(#p1fd200d1e4)\" d=\"M 411.487161 28.350098 \nL 407.14111 25.084837 \n\" style=\"fill:none;stroke:#008000;stroke-linecap:square;stroke-width:2;\"/>\n   </g>\n   <g id=\"line2d_38\">\n    <path clip-path=\"url(#p1fd200d1e4)\" d=\"M 407.14111 25.084837 \nL 407.14111 25.084837 \n\" style=\"fill:none;stroke:#008000;stroke-linecap:square;stroke-width:2;\"/>\n   </g>\n   <g id=\"line2d_39\">\n    <path clip-path=\"url(#p1fd200d1e4)\" d=\"M 407.14111 25.084837 \nL 411.466067 28.377987 \n\" style=\"fill:none;stroke:#008000;stroke-linecap:square;stroke-width:2;\"/>\n   </g>\n   <g id=\"line2d_40\">\n    <path clip-path=\"url(#p1fd200d1e4)\" d=\"M 411.466067 28.377987 \nL 415.757766 31.714365 \n\" style=\"fill:none;stroke:#008000;stroke-linecap:square;stroke-width:2;\"/>\n   </g>\n   <g id=\"line2d_41\">\n    <path clip-path=\"url(#p1fd200d1e4)\" d=\"M 415.757766 31.714365 \nL 419.998552 35.115223 \n\" style=\"fill:none;stroke:#008000;stroke-linecap:square;stroke-width:2;\"/>\n   </g>\n   <g id=\"line2d_42\">\n    <path clip-path=\"url(#p1fd200d1e4)\" d=\"M 419.998552 35.115223 \nL 424.169532 38.601341 \n\" style=\"fill:none;stroke:#008000;stroke-linecap:square;stroke-width:2;\"/>\n   </g>\n   <g id=\"line2d_43\">\n    <path clip-path=\"url(#p1fd200d1e4)\" d=\"M 424.169532 38.601341 \nL 428.250147 42.192813 \n\" style=\"fill:none;stroke:#008000;stroke-linecap:square;stroke-width:2;\"/>\n   </g>\n   <g id=\"line2d_44\">\n    <path clip-path=\"url(#p1fd200d1e4)\" d=\"M 428.250147 42.192813 \nL 432.217731 45.908775 \n\" style=\"fill:none;stroke:#008000;stroke-linecap:square;stroke-width:2;\"/>\n   </g>\n   <g id=\"line2d_45\">\n    <path clip-path=\"url(#p1fd200d1e4)\" d=\"M 432.217731 45.908775 \nL 436.047058 49.767058 \n\" style=\"fill:none;stroke:#008000;stroke-linecap:square;stroke-width:2;\"/>\n   </g>\n   <g id=\"line2d_46\">\n    <path clip-path=\"url(#p1fd200d1e4)\" d=\"M 436.047058 49.767058 \nL 439.709887 53.783747 \n\" style=\"fill:none;stroke:#008000;stroke-linecap:square;stroke-width:2;\"/>\n   </g>\n   <g id=\"line2d_47\">\n    <path clip-path=\"url(#p1fd200d1e4)\" d=\"M 439.709887 53.783747 \nL 443.17449 57.972615 \n\" style=\"fill:none;stroke:#008000;stroke-linecap:square;stroke-width:2;\"/>\n   </g>\n   <g id=\"line2d_48\">\n    <path clip-path=\"url(#p1fd200d1e4)\" d=\"M 443.17449 57.972615 \nL 446.405199 62.344413 \n\" style=\"fill:none;stroke:#008000;stroke-linecap:square;stroke-width:2;\"/>\n   </g>\n   <g id=\"line2d_49\">\n    <path clip-path=\"url(#p1fd200d1e4)\" d=\"M 446.405199 62.344413 \nL 449.361969 66.905949 \n\" style=\"fill:none;stroke:#008000;stroke-linecap:square;stroke-width:2;\"/>\n   </g>\n   <g id=\"line2d_50\">\n    <path clip-path=\"url(#p1fd200d1e4)\" d=\"M 449.361969 66.905949 \nL 449.361969 66.905949 \n\" style=\"fill:none;stroke:#008000;stroke-linecap:square;stroke-width:2;\"/>\n   </g>\n   <g id=\"line2d_51\">\n    <path clip-path=\"url(#p1fd200d1e4)\" d=\"M 449.361969 66.905949 \nL 451.926991 71.698731 \n\" style=\"fill:none;stroke:#008000;stroke-linecap:square;stroke-width:2;\"/>\n   </g>\n   <g id=\"line2d_52\">\n    <path clip-path=\"url(#p1fd200d1e4)\" d=\"M 451.926991 71.698731 \nL 454.127579 76.669395 \n\" style=\"fill:none;stroke:#008000;stroke-linecap:square;stroke-width:2;\"/>\n   </g>\n   <g id=\"line2d_53\">\n    <path clip-path=\"url(#p1fd200d1e4)\" d=\"M 454.127579 76.669395 \nL 455.909986 81.804872 \n\" style=\"fill:none;stroke:#008000;stroke-linecap:square;stroke-width:2;\"/>\n   </g>\n   <g id=\"line2d_54\">\n    <path clip-path=\"url(#p1fd200d1e4)\" d=\"M 455.909986 81.804872 \nL 457.215685 87.081731 \n\" style=\"fill:none;stroke:#008000;stroke-linecap:square;stroke-width:2;\"/>\n   </g>\n   <g id=\"line2d_55\">\n    <path clip-path=\"url(#p1fd200d1e4)\" d=\"M 457.215685 87.081731 \nL 457.988055 92.462581 \n\" style=\"fill:none;stroke:#008000;stroke-linecap:square;stroke-width:2;\"/>\n   </g>\n   <g id=\"line2d_56\">\n    <path clip-path=\"url(#p1fd200d1e4)\" d=\"M 457.988055 92.462581 \nL 458.219377 97.893657 \n\" style=\"fill:none;stroke:#008000;stroke-linecap:square;stroke-width:2;\"/>\n   </g>\n   <g id=\"line2d_57\">\n    <path clip-path=\"url(#p1fd200d1e4)\" d=\"M 458.219377 97.893657 \nL 457.90734 103.320694 \n\" style=\"fill:none;stroke:#008000;stroke-linecap:square;stroke-width:2;\"/>\n   </g>\n   <g id=\"line2d_58\">\n    <path clip-path=\"url(#p1fd200d1e4)\" d=\"M 457.90734 103.320694 \nL 457.055063 108.689466 \n\" style=\"fill:none;stroke:#008000;stroke-linecap:square;stroke-width:2;\"/>\n   </g>\n   <g id=\"line2d_59\">\n    <path clip-path=\"url(#p1fd200d1e4)\" d=\"M 457.055063 108.689466 \nL 455.671061 113.946332 \n\" style=\"fill:none;stroke:#008000;stroke-linecap:square;stroke-width:2;\"/>\n   </g>\n   <g id=\"line2d_60\">\n    <path clip-path=\"url(#p1fd200d1e4)\" d=\"M 455.671061 113.946332 \nL 453.769162 119.038765 \n\" style=\"fill:none;stroke:#008000;stroke-linecap:square;stroke-width:2;\"/>\n   </g>\n   <g id=\"line2d_61\">\n    <path clip-path=\"url(#p1fd200d1e4)\" d=\"M 453.769162 119.038765 \nL 451.36837 123.915884 \n\" style=\"fill:none;stroke:#008000;stroke-linecap:square;stroke-width:2;\"/>\n   </g>\n   <g id=\"line2d_62\">\n    <path clip-path=\"url(#p1fd200d1e4)\" d=\"M 451.36837 123.915884 \nL 451.36837 123.915884 \n\" style=\"fill:none;stroke:#008000;stroke-linecap:square;stroke-width:2;\"/>\n   </g>\n   <g id=\"line2d_63\">\n    <path clip-path=\"url(#p1fd200d1e4)\" d=\"M 451.36837 123.915884 \nL 448.472981 128.516626 \n\" style=\"fill:none;stroke:#008000;stroke-linecap:square;stroke-width:2;\"/>\n   </g>\n   <g id=\"line2d_64\">\n    <path clip-path=\"url(#p1fd200d1e4)\" d=\"M 448.472981 128.516626 \nL 445.211515 132.865526 \n\" style=\"fill:none;stroke:#008000;stroke-linecap:square;stroke-width:2;\"/>\n   </g>\n   <g id=\"line2d_65\">\n    <path clip-path=\"url(#p1fd200d1e4)\" d=\"M 445.211515 132.865526 \nL 441.638508 136.96232 \n\" style=\"fill:none;stroke:#008000;stroke-linecap:square;stroke-width:2;\"/>\n   </g>\n   <g id=\"line2d_66\">\n    <path clip-path=\"url(#p1fd200d1e4)\" d=\"M 441.638508 136.96232 \nL 437.801967 140.81343 \n\" style=\"fill:none;stroke:#008000;stroke-linecap:square;stroke-width:2;\"/>\n   </g>\n   <g id=\"line2d_67\">\n    <path clip-path=\"url(#p1fd200d1e4)\" d=\"M 437.801967 140.81343 \nL 433.743863 144.430319 \n\" style=\"fill:none;stroke:#008000;stroke-linecap:square;stroke-width:2;\"/>\n   </g>\n   <g id=\"line2d_68\">\n    <path clip-path=\"url(#p1fd200d1e4)\" d=\"M 433.743863 144.430319 \nL 429.500705 147.828216 \n\" style=\"fill:none;stroke:#008000;stroke-linecap:square;stroke-width:2;\"/>\n   </g>\n   <g id=\"line2d_69\">\n    <path clip-path=\"url(#p1fd200d1e4)\" d=\"M 429.500705 147.828216 \nL 425.104133 151.025128 \n\" style=\"fill:none;stroke:#008000;stroke-linecap:square;stroke-width:2;\"/>\n   </g>\n   <g id=\"line2d_70\">\n    <path clip-path=\"url(#p1fd200d1e4)\" d=\"M 425.104133 151.025128 \nL 420.581519 154.041097 \n\" style=\"fill:none;stroke:#008000;stroke-linecap:square;stroke-width:2;\"/>\n   </g>\n   <g id=\"line2d_71\">\n    <path clip-path=\"url(#p1fd200d1e4)\" d=\"M 420.581519 154.041097 \nL 415.956548 156.897622 \n\" style=\"fill:none;stroke:#008000;stroke-linecap:square;stroke-width:2;\"/>\n   </g>\n   <g id=\"line2d_72\">\n    <path clip-path=\"url(#p1fd200d1e4)\" d=\"M 415.956548 156.897622 \nL 411.249766 159.617236 \n\" style=\"fill:none;stroke:#008000;stroke-linecap:square;stroke-width:2;\"/>\n   </g>\n   <g id=\"line2d_73\">\n    <path clip-path=\"url(#p1fd200d1e4)\" d=\"M 411.249766 159.617236 \nL 406.479116 162.22319 \n\" style=\"fill:none;stroke:#008000;stroke-linecap:square;stroke-width:2;\"/>\n   </g>\n   <g id=\"line2d_74\">\n    <path clip-path=\"url(#p1fd200d1e4)\" d=\"M 406.479116 162.22319 \nL 406.479116 162.22319 \n\" style=\"fill:none;stroke:#008000;stroke-linecap:square;stroke-width:2;\"/>\n   </g>\n   <g id=\"line2d_75\">\n    <path clip-path=\"url(#p1fd200d1e4)\" d=\"M 406.479116 162.22319 \nL 401.634562 164.689034 \n\" style=\"fill:none;stroke:#008000;stroke-linecap:square;stroke-width:2;\"/>\n   </g>\n   <g id=\"line2d_76\">\n    <path clip-path=\"url(#p1fd200d1e4)\" d=\"M 401.634562 164.689034 \nL 396.758943 167.092873 \n\" style=\"fill:none;stroke:#008000;stroke-linecap:square;stroke-width:2;\"/>\n   </g>\n   <g id=\"line2d_77\">\n    <path clip-path=\"url(#p1fd200d1e4)\" d=\"M 396.758943 167.092873 \nL 391.86495 169.459077 \n\" style=\"fill:none;stroke:#008000;stroke-linecap:square;stroke-width:2;\"/>\n   </g>\n   <g id=\"line2d_78\">\n    <path clip-path=\"url(#p1fd200d1e4)\" d=\"M 391.86495 169.459077 \nL 386.964609 171.812108 \n\" style=\"fill:none;stroke:#008000;stroke-linecap:square;stroke-width:2;\"/>\n   </g>\n   <g id=\"line2d_79\">\n    <path clip-path=\"url(#p1fd200d1e4)\" d=\"M 386.964609 171.812108 \nL 382.069719 174.176459 \n\" style=\"fill:none;stroke:#008000;stroke-linecap:square;stroke-width:2;\"/>\n   </g>\n   <g id=\"line2d_80\">\n    <path clip-path=\"url(#p1fd200d1e4)\" d=\"M 382.069719 174.176459 \nL 377.192277 176.576594 \n\" style=\"fill:none;stroke:#008000;stroke-linecap:square;stroke-width:2;\"/>\n   </g>\n   <g id=\"line2d_81\">\n    <path clip-path=\"url(#p1fd200d1e4)\" d=\"M 377.192277 176.576594 \nL 372.344904 179.036894 \n\" style=\"fill:none;stroke:#008000;stroke-linecap:square;stroke-width:2;\"/>\n   </g>\n   <g id=\"line2d_82\">\n    <path clip-path=\"url(#p1fd200d1e4)\" d=\"M 372.344904 179.036894 \nL 367.541291 181.581574 \n\" style=\"fill:none;stroke:#008000;stroke-linecap:square;stroke-width:2;\"/>\n   </g>\n   <g id=\"line2d_83\">\n    <path clip-path=\"url(#p1fd200d1e4)\" d=\"M 367.541291 181.581574 \nL 362.796644 184.234576 \n\" style=\"fill:none;stroke:#008000;stroke-linecap:square;stroke-width:2;\"/>\n   </g>\n   <g id=\"line2d_84\">\n    <path clip-path=\"url(#p1fd200d1e4)\" d=\"M 362.796644 184.234576 \nL 358.12816 187.01942 \n\" style=\"fill:none;stroke:#008000;stroke-linecap:square;stroke-width:2;\"/>\n   </g>\n   <g id=\"line2d_85\">\n    <path clip-path=\"url(#p1fd200d1e4)\" d=\"M 358.12816 187.01942 \nL 353.555524 189.958994 \n\" style=\"fill:none;stroke:#008000;stroke-linecap:square;stroke-width:2;\"/>\n   </g>\n   <g id=\"line2d_86\">\n    <path clip-path=\"url(#p1fd200d1e4)\" d=\"M 353.555524 189.958994 \nL 353.555524 189.958994 \n\" style=\"fill:none;stroke:#008000;stroke-linecap:square;stroke-width:2;\"/>\n   </g>\n   <g id=\"line2d_87\">\n    <path clip-path=\"url(#p1fd200d1e4)\" d=\"M 353.555524 189.958994 \nL 349.025127 192.963257 \n\" style=\"fill:none;stroke:#008000;stroke-linecap:square;stroke-width:2;\"/>\n   </g>\n   <g id=\"line2d_88\">\n    <path clip-path=\"url(#p1fd200d1e4)\" d=\"M 349.025127 192.963257 \nL 344.561137 196.065336 \n\" style=\"fill:none;stroke:#008000;stroke-linecap:square;stroke-width:2;\"/>\n   </g>\n   <g id=\"line2d_89\">\n    <path clip-path=\"url(#p1fd200d1e4)\" d=\"M 344.561137 196.065336 \nL 340.149144 199.240931 \n\" style=\"fill:none;stroke:#008000;stroke-linecap:square;stroke-width:2;\"/>\n   </g>\n   <g id=\"line2d_90\">\n    <path clip-path=\"url(#p1fd200d1e4)\" d=\"M 340.149144 199.240931 \nL 335.77385 202.466904 \n\" style=\"fill:none;stroke:#008000;stroke-linecap:square;stroke-width:2;\"/>\n   </g>\n   <g id=\"line2d_91\">\n    <path clip-path=\"url(#p1fd200d1e4)\" d=\"M 335.77385 202.466904 \nL 331.419372 205.72092 \n\" style=\"fill:none;stroke:#008000;stroke-linecap:square;stroke-width:2;\"/>\n   </g>\n   <g id=\"line2d_92\">\n    <path clip-path=\"url(#p1fd200d1e4)\" d=\"M 331.419372 205.72092 \nL 327.069507 208.981099 \n\" style=\"fill:none;stroke:#008000;stroke-linecap:square;stroke-width:2;\"/>\n   </g>\n   <g id=\"line2d_93\">\n    <path clip-path=\"url(#p1fd200d1e4)\" d=\"M 327.069507 208.981099 \nL 322.70798 212.22566 \n\" style=\"fill:none;stroke:#008000;stroke-linecap:square;stroke-width:2;\"/>\n   </g>\n   <g id=\"line2d_94\">\n    <path clip-path=\"url(#p1fd200d1e4)\" d=\"M 322.70798 212.22566 \nL 318.318694 215.43257 \n\" style=\"fill:none;stroke:#008000;stroke-linecap:square;stroke-width:2;\"/>\n   </g>\n   <g id=\"line2d_95\">\n    <path clip-path=\"url(#p1fd200d1e4)\" d=\"M 318.318694 215.43257 \nL 313.885987 218.579188 \n\" style=\"fill:none;stroke:#008000;stroke-linecap:square;stroke-width:2;\"/>\n   </g>\n   <g id=\"line2d_96\">\n    <path clip-path=\"url(#p1fd200d1e4)\" d=\"M 313.885987 218.579188 \nL 309.394907 221.641915 \n\" style=\"fill:none;stroke:#008000;stroke-linecap:square;stroke-width:2;\"/>\n   </g>\n   <g id=\"line2d_97\">\n    <path clip-path=\"url(#p1fd200d1e4)\" d=\"M 309.394907 221.641915 \nL 304.83153 224.595842 \n\" style=\"fill:none;stroke:#008000;stroke-linecap:square;stroke-width:2;\"/>\n   </g>\n   <g id=\"line2d_98\">\n    <path clip-path=\"url(#p1fd200d1e4)\" d=\"M 304.83153 224.595842 \nL 304.83153 224.595842 \n\" style=\"fill:none;stroke:#008000;stroke-linecap:square;stroke-width:2;\"/>\n   </g>\n   <g id=\"line2d_99\">\n    <path clip-path=\"url(#p1fd200d1e4)\" d=\"M 304.83153 224.595842 \nL 300.170785 227.393618 \n\" style=\"fill:none;stroke:#008000;stroke-linecap:square;stroke-width:2;\"/>\n   </g>\n   <g id=\"line2d_100\">\n    <path clip-path=\"url(#p1fd200d1e4)\" d=\"M 300.170785 227.393618 \nL 295.474727 230.131708 \n\" style=\"fill:none;stroke:#008000;stroke-linecap:square;stroke-width:2;\"/>\n   </g>\n   <g id=\"line2d_101\">\n    <path clip-path=\"url(#p1fd200d1e4)\" d=\"M 295.474727 230.131708 \nL 290.757713 232.833536 \n\" style=\"fill:none;stroke:#008000;stroke-linecap:square;stroke-width:2;\"/>\n   </g>\n   <g id=\"line2d_102\">\n    <path clip-path=\"url(#p1fd200d1e4)\" d=\"M 290.757713 232.833536 \nL 286.033448 235.522666 \n\" style=\"fill:none;stroke:#008000;stroke-linecap:square;stroke-width:2;\"/>\n   </g>\n   <g id=\"line2d_103\">\n    <path clip-path=\"url(#p1fd200d1e4)\" d=\"M 286.033448 235.522666 \nL 281.315411 238.222706 \n\" style=\"fill:none;stroke:#008000;stroke-linecap:square;stroke-width:2;\"/>\n   </g>\n   <g id=\"line2d_104\">\n    <path clip-path=\"url(#p1fd200d1e4)\" d=\"M 281.315411 238.222706 \nL 276.617275 240.957229 \n\" style=\"fill:none;stroke:#008000;stroke-linecap:square;stroke-width:2;\"/>\n   </g>\n   <g id=\"line2d_105\">\n    <path clip-path=\"url(#p1fd200d1e4)\" d=\"M 276.617275 240.957229 \nL 271.953332 243.749671 \n\" style=\"fill:none;stroke:#008000;stroke-linecap:square;stroke-width:2;\"/>\n   </g>\n   <g id=\"line2d_106\">\n    <path clip-path=\"url(#p1fd200d1e4)\" d=\"M 271.953332 243.749671 \nL 267.338928 246.623235 \n\" style=\"fill:none;stroke:#008000;stroke-linecap:square;stroke-width:2;\"/>\n   </g>\n   <g id=\"line2d_107\">\n    <path clip-path=\"url(#p1fd200d1e4)\" d=\"M 267.338928 246.623235 \nL 262.790902 249.600744 \n\" style=\"fill:none;stroke:#008000;stroke-linecap:square;stroke-width:2;\"/>\n   </g>\n   <g id=\"line2d_108\">\n    <path clip-path=\"url(#p1fd200d1e4)\" d=\"M 262.790902 249.600744 \nL 258.328052 252.704462 \n\" style=\"fill:none;stroke:#008000;stroke-linecap:square;stroke-width:2;\"/>\n   </g>\n   <g id=\"line2d_109\">\n    <path clip-path=\"url(#p1fd200d1e4)\" d=\"M 258.328052 252.704462 \nL 253.971609 255.955846 \n\" style=\"fill:none;stroke:#008000;stroke-linecap:square;stroke-width:2;\"/>\n   </g>\n   <g id=\"line2d_110\">\n    <path clip-path=\"url(#p1fd200d1e4)\" d=\"M 253.971609 255.955846 \nL 253.971609 255.955846 \n\" style=\"fill:none;stroke:#008000;stroke-linecap:square;stroke-width:2;\"/>\n   </g>\n   <g id=\"line2d_111\">\n    <path clip-path=\"url(#p1fd200d1e4)\" d=\"M 253.971609 255.955846 \nL 249.698745 259.316312 \n\" style=\"fill:none;stroke:#008000;stroke-linecap:square;stroke-width:2;\"/>\n   </g>\n   <g id=\"line2d_112\">\n    <path clip-path=\"url(#p1fd200d1e4)\" d=\"M 249.698745 259.316312 \nL 245.577683 262.8613 \n\" style=\"fill:none;stroke:#008000;stroke-linecap:square;stroke-width:2;\"/>\n   </g>\n   <g id=\"line2d_113\">\n    <path clip-path=\"url(#p1fd200d1e4)\" d=\"M 245.577683 262.8613 \nL 241.639186 266.608077 \n\" style=\"fill:none;stroke:#008000;stroke-linecap:square;stroke-width:2;\"/>\n   </g>\n   <g id=\"line2d_114\">\n    <path clip-path=\"url(#p1fd200d1e4)\" d=\"M 241.639186 266.608077 \nL 237.918487 270.571219 \n\" style=\"fill:none;stroke:#008000;stroke-linecap:square;stroke-width:2;\"/>\n   </g>\n   <g id=\"line2d_115\">\n    <path clip-path=\"url(#p1fd200d1e4)\" d=\"M 237.918487 270.571219 \nL 234.455839 274.761704 \n\" style=\"fill:none;stroke:#008000;stroke-linecap:square;stroke-width:2;\"/>\n   </g>\n   <g id=\"line2d_116\">\n    <path clip-path=\"url(#p1fd200d1e4)\" d=\"M 234.455839 274.761704 \nL 231.297033 279.185734 \n\" style=\"fill:none;stroke:#008000;stroke-linecap:square;stroke-width:2;\"/>\n   </g>\n   <g id=\"line2d_117\">\n    <path clip-path=\"url(#p1fd200d1e4)\" d=\"M 231.297033 279.185734 \nL 228.493855 283.843232 \n\" style=\"fill:none;stroke:#008000;stroke-linecap:square;stroke-width:2;\"/>\n   </g>\n   <g id=\"line2d_118\">\n    <path clip-path=\"url(#p1fd200d1e4)\" d=\"M 228.493855 283.843232 \nL 226.104402 288.725917 \n\" style=\"fill:none;stroke:#008000;stroke-linecap:square;stroke-width:2;\"/>\n   </g>\n   <g id=\"line2d_119\">\n    <path clip-path=\"url(#p1fd200d1e4)\" d=\"M 226.104402 288.725917 \nL 224.193155 293.814849 \n\" style=\"fill:none;stroke:#008000;stroke-linecap:square;stroke-width:2;\"/>\n   </g>\n   <g id=\"line2d_120\">\n    <path clip-path=\"url(#p1fd200d1e4)\" d=\"M 224.193155 293.814849 \nL 222.799502 299.069164 \n\" style=\"fill:none;stroke:#008000;stroke-linecap:square;stroke-width:2;\"/>\n   </g>\n   <g id=\"line2d_121\">\n    <path clip-path=\"url(#p1fd200d1e4)\" d=\"M 222.799502 299.069164 \nL 221.937367 304.436363 \n\" style=\"fill:none;stroke:#008000;stroke-linecap:square;stroke-width:2;\"/>\n   </g>\n   <g id=\"line2d_122\">\n    <path clip-path=\"url(#p1fd200d1e4)\" d=\"M 221.937367 304.436363 \nL 221.937367 304.436363 \n\" style=\"fill:none;stroke:#008000;stroke-linecap:square;stroke-width:2;\"/>\n   </g>\n   <g id=\"line2d_123\">\n    <path clip-path=\"url(#p1fd200d1e4)\" d=\"M 221.937367 304.436363 \nL 221.532581 309.857271 \n\" style=\"fill:none;stroke:#008000;stroke-linecap:square;stroke-width:2;\"/>\n   </g>\n   <g id=\"line2d_124\">\n    <path clip-path=\"url(#p1fd200d1e4)\" d=\"M 221.532581 309.857271 \nL 221.671005 315.291508 \n\" style=\"fill:none;stroke:#008000;stroke-linecap:square;stroke-width:2;\"/>\n   </g>\n   <g id=\"line2d_125\">\n    <path clip-path=\"url(#p1fd200d1e4)\" d=\"M 221.671005 315.291508 \nL 222.351256 320.684778 \n\" style=\"fill:none;stroke:#008000;stroke-linecap:square;stroke-width:2;\"/>\n   </g>\n   <g id=\"line2d_126\">\n    <path clip-path=\"url(#p1fd200d1e4)\" d=\"M 222.351256 320.684778 \nL 223.566537 325.983191 \n\" style=\"fill:none;stroke:#008000;stroke-linecap:square;stroke-width:2;\"/>\n   </g>\n   <g id=\"line2d_127\">\n    <path clip-path=\"url(#p1fd200d1e4)\" d=\"M 223.566537 325.983191 \nL 225.304705 331.133809 \n\" style=\"fill:none;stroke:#008000;stroke-linecap:square;stroke-width:2;\"/>\n   </g>\n   <g id=\"line2d_128\">\n    <path clip-path=\"url(#p1fd200d1e4)\" d=\"M 225.304705 331.133809 \nL 227.548394 336.085168 \n\" style=\"fill:none;stroke:#008000;stroke-linecap:square;stroke-width:2;\"/>\n   </g>\n   <g id=\"line2d_129\">\n    <path clip-path=\"url(#p1fd200d1e4)\" d=\"M 227.548394 336.085168 \nL 230.275185 340.787796 \n\" style=\"fill:none;stroke:#008000;stroke-linecap:square;stroke-width:2;\"/>\n   </g>\n   <g id=\"line2d_130\">\n    <path clip-path=\"url(#p1fd200d1e4)\" d=\"M 230.275185 340.787796 \nL 233.457832 345.194706 \n\" style=\"fill:none;stroke:#008000;stroke-linecap:square;stroke-width:2;\"/>\n   </g>\n   <g id=\"line2d_131\">\n    <path clip-path=\"url(#p1fd200d1e4)\" d=\"M 233.457832 345.194706 \nL 237.064537 349.261864 \n\" style=\"fill:none;stroke:#008000;stroke-linecap:square;stroke-width:2;\"/>\n   </g>\n   <g id=\"line2d_132\">\n    <path clip-path=\"url(#p1fd200d1e4)\" d=\"M 237.064537 349.261864 \nL 241.059261 352.948635 \n\" style=\"fill:none;stroke:#008000;stroke-linecap:square;stroke-width:2;\"/>\n   </g>\n   <g id=\"line2d_133\">\n    <path clip-path=\"url(#p1fd200d1e4)\" d=\"M 241.059261 352.948635 \nL 245.402091 356.218179 \n\" style=\"fill:none;stroke:#008000;stroke-linecap:square;stroke-width:2;\"/>\n   </g>\n   <g id=\"line2d_134\">\n    <path clip-path=\"url(#p1fd200d1e4)\" d=\"M 245.402091 356.218179 \nL 245.402091 356.218179 \n\" style=\"fill:none;stroke:#008000;stroke-linecap:square;stroke-width:2;\"/>\n   </g>\n   <g id=\"line2d_135\">\n    <path clip-path=\"url(#p1fd200d1e4)\" d=\"M 245.402091 356.218179 \nL 250.021281 359.084044 \n\" style=\"fill:none;stroke:#008000;stroke-linecap:square;stroke-width:2;\"/>\n   </g>\n   <g id=\"line2d_136\">\n    <path clip-path=\"url(#p1fd200d1e4)\" d=\"M 250.021281 359.084044 \nL 254.8591 361.563077 \n\" style=\"fill:none;stroke:#008000;stroke-linecap:square;stroke-width:2;\"/>\n   </g>\n   <g id=\"line2d_137\">\n    <path clip-path=\"url(#p1fd200d1e4)\" d=\"M 254.8591 361.563077 \nL 259.866413 363.678947 \n\" style=\"fill:none;stroke:#008000;stroke-linecap:square;stroke-width:2;\"/>\n   </g>\n   <g id=\"line2d_138\">\n    <path clip-path=\"url(#p1fd200d1e4)\" d=\"M 259.866413 363.678947 \nL 265.002889 365.458473 \n\" style=\"fill:none;stroke:#008000;stroke-linecap:square;stroke-width:2;\"/>\n   </g>\n   <g id=\"line2d_139\">\n    <path clip-path=\"url(#p1fd200d1e4)\" d=\"M 265.002889 365.458473 \nL 270.235829 366.930356 \n\" style=\"fill:none;stroke:#008000;stroke-linecap:square;stroke-width:2;\"/>\n   </g>\n   <g id=\"line2d_140\">\n    <path clip-path=\"url(#p1fd200d1e4)\" d=\"M 270.235829 366.930356 \nL 275.539094 368.124287 \n\" style=\"fill:none;stroke:#008000;stroke-linecap:square;stroke-width:2;\"/>\n   </g>\n   <g id=\"line2d_141\">\n    <path clip-path=\"url(#p1fd200d1e4)\" d=\"M 275.539094 368.124287 \nL 280.892141 369.070323 \n\" style=\"fill:none;stroke:#008000;stroke-linecap:square;stroke-width:2;\"/>\n   </g>\n   <g id=\"line2d_142\">\n    <path clip-path=\"url(#p1fd200d1e4)\" d=\"M 280.892141 369.070323 \nL 286.279152 369.798474 \n\" style=\"fill:none;stroke:#008000;stroke-linecap:square;stroke-width:2;\"/>\n   </g>\n   <g id=\"line2d_143\">\n    <path clip-path=\"url(#p1fd200d1e4)\" d=\"M 286.279152 369.798474 \nL 291.688267 370.338448 \n\" style=\"fill:none;stroke:#008000;stroke-linecap:square;stroke-width:2;\"/>\n   </g>\n   <g id=\"line2d_144\">\n    <path clip-path=\"url(#p1fd200d1e4)\" d=\"M 291.688267 370.338448 \nL 297.110895 370.719504 \n\" style=\"fill:none;stroke:#008000;stroke-linecap:square;stroke-width:2;\"/>\n   </g>\n   <g id=\"line2d_145\">\n    <path clip-path=\"url(#p1fd200d1e4)\" d=\"M 297.110895 370.719504 \nL 302.541102 370.970404 \n\" style=\"fill:none;stroke:#008000;stroke-linecap:square;stroke-width:2;\"/>\n   </g>\n   <g id=\"line2d_146\">\n    <path clip-path=\"url(#p1fd200d1e4)\" d=\"M 302.541102 370.970404 \nL 302.541102 370.970404 \n\" style=\"fill:none;stroke:#008000;stroke-linecap:square;stroke-width:2;\"/>\n   </g>\n   <g id=\"line2d_147\">\n    <path clip-path=\"url(#p1fd200d1e4)\" d=\"M 302.541102 370.970404 \nL 297.120566 370.560665 \n\" style=\"fill:none;stroke:#008000;stroke-linecap:square;stroke-width:2;\"/>\n   </g>\n   <g id=\"line2d_148\">\n    <path clip-path=\"url(#p1fd200d1e4)\" d=\"M 297.120566 370.560665 \nL 291.710933 370.025903 \n\" style=\"fill:none;stroke:#008000;stroke-linecap:square;stroke-width:2;\"/>\n   </g>\n   <g id=\"line2d_149\">\n    <path clip-path=\"url(#p1fd200d1e4)\" d=\"M 291.710933 370.025903 \nL 286.315087 369.366403 \n\" style=\"fill:none;stroke:#008000;stroke-linecap:square;stroke-width:2;\"/>\n   </g>\n   <g id=\"line2d_150\">\n    <path clip-path=\"url(#p1fd200d1e4)\" d=\"M 286.315087 369.366403 \nL 280.935903 368.582518 \n\" style=\"fill:none;stroke:#008000;stroke-linecap:square;stroke-width:2;\"/>\n   </g>\n   <g id=\"line2d_151\">\n    <path clip-path=\"url(#p1fd200d1e4)\" d=\"M 280.935903 368.582518 \nL 275.576249 367.674664 \n\" style=\"fill:none;stroke:#008000;stroke-linecap:square;stroke-width:2;\"/>\n   </g>\n   <g id=\"line2d_152\">\n    <path clip-path=\"url(#p1fd200d1e4)\" d=\"M 275.576249 367.674664 \nL 270.23898 366.643326 \n\" style=\"fill:none;stroke:#008000;stroke-linecap:square;stroke-width:2;\"/>\n   </g>\n   <g id=\"line2d_153\">\n    <path clip-path=\"url(#p1fd200d1e4)\" d=\"M 270.23898 366.643326 \nL 264.926942 365.489052 \n\" style=\"fill:none;stroke:#008000;stroke-linecap:square;stroke-width:2;\"/>\n   </g>\n   <g id=\"line2d_154\">\n    <path clip-path=\"url(#p1fd200d1e4)\" d=\"M 264.926942 365.489052 \nL 259.642965 364.21246 \n\" style=\"fill:none;stroke:#008000;stroke-linecap:square;stroke-width:2;\"/>\n   </g>\n   <g id=\"line2d_155\">\n    <path clip-path=\"url(#p1fd200d1e4)\" d=\"M 259.642965 364.21246 \nL 254.389867 362.814228 \n\" style=\"fill:none;stroke:#008000;stroke-linecap:square;stroke-width:2;\"/>\n   </g>\n   <g id=\"line2d_156\">\n    <path clip-path=\"url(#p1fd200d1e4)\" d=\"M 254.389867 362.814228 \nL 249.170446 361.295102 \n\" style=\"fill:none;stroke:#008000;stroke-linecap:square;stroke-width:2;\"/>\n   </g>\n   <g id=\"line2d_157\">\n    <path clip-path=\"url(#p1fd200d1e4)\" d=\"M 249.170446 361.295102 \nL 243.987485 359.655892 \n\" style=\"fill:none;stroke:#008000;stroke-linecap:square;stroke-width:2;\"/>\n   </g>\n   <g id=\"line2d_158\">\n    <path clip-path=\"url(#p1fd200d1e4)\" d=\"M 243.987485 359.655892 \nL 243.987485 359.655892 \n\" style=\"fill:none;stroke:#008000;stroke-linecap:square;stroke-width:2;\"/>\n   </g>\n   <g id=\"line2d_159\">\n    <path clip-path=\"url(#p1fd200d1e4)\" d=\"M 243.987485 359.655892 \nL 238.848395 357.88393 \n\" style=\"fill:none;stroke:#008000;stroke-linecap:square;stroke-width:2;\"/>\n   </g>\n   <g id=\"line2d_160\">\n    <path clip-path=\"url(#p1fd200d1e4)\" d=\"M 238.848395 357.88393 \nL 233.732329 356.046551 \n\" style=\"fill:none;stroke:#008000;stroke-linecap:square;stroke-width:2;\"/>\n   </g>\n   <g id=\"line2d_161\">\n    <path clip-path=\"url(#p1fd200d1e4)\" d=\"M 233.732329 356.046551 \nL 228.63057 354.16981 \n\" style=\"fill:none;stroke:#008000;stroke-linecap:square;stroke-width:2;\"/>\n   </g>\n   <g id=\"line2d_162\">\n    <path clip-path=\"url(#p1fd200d1e4)\" d=\"M 228.63057 354.16981 \nL 223.533878 352.279352 \n\" style=\"fill:none;stroke:#008000;stroke-linecap:square;stroke-width:2;\"/>\n   </g>\n   <g id=\"line2d_163\">\n    <path clip-path=\"url(#p1fd200d1e4)\" d=\"M 223.533878 352.279352 \nL 218.432831 350.400679 \n\" style=\"fill:none;stroke:#008000;stroke-linecap:square;stroke-width:2;\"/>\n   </g>\n   <g id=\"line2d_164\">\n    <path clip-path=\"url(#p1fd200d1e4)\" d=\"M 218.432831 350.400679 \nL 213.318162 348.559415 \n\" style=\"fill:none;stroke:#008000;stroke-linecap:square;stroke-width:2;\"/>\n   </g>\n   <g id=\"line2d_165\">\n    <path clip-path=\"url(#p1fd200d1e4)\" d=\"M 213.318162 348.559415 \nL 208.181102 346.781575 \n\" style=\"fill:none;stroke:#008000;stroke-linecap:square;stroke-width:2;\"/>\n   </g>\n   <g id=\"line2d_166\">\n    <path clip-path=\"url(#p1fd200d1e4)\" d=\"M 208.181102 346.781575 \nL 203.013743 345.093828 \n\" style=\"fill:none;stroke:#008000;stroke-linecap:square;stroke-width:2;\"/>\n   </g>\n   <g id=\"line2d_167\">\n    <path clip-path=\"url(#p1fd200d1e4)\" d=\"M 203.013743 345.093828 \nL 197.809424 343.523744 \n\" style=\"fill:none;stroke:#008000;stroke-linecap:square;stroke-width:2;\"/>\n   </g>\n   <g id=\"line2d_168\">\n    <path clip-path=\"url(#p1fd200d1e4)\" d=\"M 197.809424 343.523744 \nL 192.563174 342.100033 \n\" style=\"fill:none;stroke:#008000;stroke-linecap:square;stroke-width:2;\"/>\n   </g>\n   <g id=\"line2d_169\">\n    <path clip-path=\"url(#p1fd200d1e4)\" d=\"M 192.563174 342.100033 \nL 187.272201 340.852754 \n\" style=\"fill:none;stroke:#008000;stroke-linecap:square;stroke-width:2;\"/>\n   </g>\n   <g id=\"line2d_170\">\n    <path clip-path=\"url(#p1fd200d1e4)\" d=\"M 187.272201 340.852754 \nL 187.272201 340.852754 \n\" style=\"fill:none;stroke:#008000;stroke-linecap:square;stroke-width:2;\"/>\n   </g>\n   <g id=\"line2d_171\">\n    <path clip-path=\"url(#p1fd200d1e4)\" d=\"M 187.272201 340.852754 \nL 181.960259 339.698036 \n\" style=\"fill:none;stroke:#008000;stroke-linecap:square;stroke-width:2;\"/>\n   </g>\n   <g id=\"line2d_172\">\n    <path clip-path=\"url(#p1fd200d1e4)\" d=\"M 181.960259 339.698036 \nL 176.617947 338.693149 \n\" style=\"fill:none;stroke:#008000;stroke-linecap:square;stroke-width:2;\"/>\n   </g>\n   <g id=\"line2d_173\">\n    <path clip-path=\"url(#p1fd200d1e4)\" d=\"M 176.617947 338.693149 \nL 171.251336 337.827367 \n\" style=\"fill:none;stroke:#008000;stroke-linecap:square;stroke-width:2;\"/>\n   </g>\n   <g id=\"line2d_174\">\n    <path clip-path=\"url(#p1fd200d1e4)\" d=\"M 171.251336 337.827367 \nL 165.865602 337.089831 \n\" style=\"fill:none;stroke:#008000;stroke-linecap:square;stroke-width:2;\"/>\n   </g>\n   <g id=\"line2d_175\">\n    <path clip-path=\"url(#p1fd200d1e4)\" d=\"M 165.865602 337.089831 \nL 160.465101 336.469597 \n\" style=\"fill:none;stroke:#008000;stroke-linecap:square;stroke-width:2;\"/>\n   </g>\n   <g id=\"line2d_176\">\n    <path clip-path=\"url(#p1fd200d1e4)\" d=\"M 160.465101 336.469597 \nL 155.053449 335.95567 \n\" style=\"fill:none;stroke:#008000;stroke-linecap:square;stroke-width:2;\"/>\n   </g>\n   <g id=\"line2d_177\">\n    <path clip-path=\"url(#p1fd200d1e4)\" d=\"M 155.053449 335.95567 \nL 149.633593 335.53703 \n\" style=\"fill:none;stroke:#008000;stroke-linecap:square;stroke-width:2;\"/>\n   </g>\n   <g id=\"line2d_178\">\n    <path clip-path=\"url(#p1fd200d1e4)\" d=\"M 149.633593 335.53703 \nL 144.207887 335.202659 \n\" style=\"fill:none;stroke:#008000;stroke-linecap:square;stroke-width:2;\"/>\n   </g>\n   <g id=\"line2d_179\">\n    <path clip-path=\"url(#p1fd200d1e4)\" d=\"M 144.207887 335.202659 \nL 138.778162 334.941546 \n\" style=\"fill:none;stroke:#008000;stroke-linecap:square;stroke-width:2;\"/>\n   </g>\n   <g id=\"line2d_180\">\n    <path clip-path=\"url(#p1fd200d1e4)\" d=\"M 138.778162 334.941546 \nL 133.3458 334.742705 \n\" style=\"fill:none;stroke:#008000;stroke-linecap:square;stroke-width:2;\"/>\n   </g>\n   <g id=\"line2d_181\">\n    <path clip-path=\"url(#p1fd200d1e4)\" d=\"M 133.3458 334.742705 \nL 127.911802 334.595175 \n\" style=\"fill:none;stroke:#008000;stroke-linecap:square;stroke-width:2;\"/>\n   </g>\n   <g id=\"line2d_182\">\n    <path clip-path=\"url(#p1fd200d1e4)\" d=\"M 127.911802 334.595175 \nL 127.911802 334.595175 \n\" style=\"fill:none;stroke:#008000;stroke-linecap:square;stroke-width:2;\"/>\n   </g>\n   <g id=\"line2d_183\">\n    <path clip-path=\"url(#p1fd200d1e4)\" d=\"M 127.911802 334.595175 \nL 122.477662 334.452997 \n\" style=\"fill:none;stroke:#008000;stroke-linecap:square;stroke-width:2;\"/>\n   </g>\n   <g id=\"line2d_184\">\n    <path clip-path=\"url(#p1fd200d1e4)\" d=\"M 122.477662 334.452997 \nL 117.042485 334.358368 \n\" style=\"fill:none;stroke:#008000;stroke-linecap:square;stroke-width:2;\"/>\n   </g>\n   <g id=\"line2d_185\">\n    <path clip-path=\"url(#p1fd200d1e4)\" d=\"M 117.042485 334.358368 \nL 111.606689 334.311293 \n\" style=\"fill:none;stroke:#008000;stroke-linecap:square;stroke-width:2;\"/>\n   </g>\n   <g id=\"line2d_186\">\n    <path clip-path=\"url(#p1fd200d1e4)\" d=\"M 111.606689 334.311293 \nL 106.170689 334.311776 \n\" style=\"fill:none;stroke:#008000;stroke-linecap:square;stroke-width:2;\"/>\n   </g>\n   <g id=\"line2d_187\">\n    <path clip-path=\"url(#p1fd200d1e4)\" d=\"M 106.170689 334.311776 \nL 100.734901 334.359817 \n\" style=\"fill:none;stroke:#008000;stroke-linecap:square;stroke-width:2;\"/>\n   </g>\n   <g id=\"line2d_188\">\n    <path clip-path=\"url(#p1fd200d1e4)\" d=\"M 100.734901 334.359817 \nL 95.299742 334.455413 \n\" style=\"fill:none;stroke:#008000;stroke-linecap:square;stroke-width:2;\"/>\n   </g>\n   <g id=\"line2d_189\">\n    <path clip-path=\"url(#p1fd200d1e4)\" d=\"M 95.299742 334.455413 \nL 89.865627 334.598556 \n\" style=\"fill:none;stroke:#008000;stroke-linecap:square;stroke-width:2;\"/>\n   </g>\n   <g id=\"line2d_190\">\n    <path clip-path=\"url(#p1fd200d1e4)\" d=\"M 89.865627 334.598556 \nL 84.432972 334.789235 \n\" style=\"fill:none;stroke:#008000;stroke-linecap:square;stroke-width:2;\"/>\n   </g>\n   <g id=\"line2d_191\">\n    <path clip-path=\"url(#p1fd200d1e4)\" d=\"M 84.432972 334.789235 \nL 79.002194 335.027437 \n\" style=\"fill:none;stroke:#008000;stroke-linecap:square;stroke-width:2;\"/>\n   </g>\n   <g id=\"line2d_192\">\n    <path clip-path=\"url(#p1fd200d1e4)\" d=\"M 79.002194 335.027437 \nL 73.573707 335.313141 \n\" style=\"fill:none;stroke:#008000;stroke-linecap:square;stroke-width:2;\"/>\n   </g>\n   <g id=\"line2d_193\">\n    <path clip-path=\"url(#p1fd200d1e4)\" d=\"M 73.573707 335.313141 \nL 68.147927 335.646327 \n\" style=\"fill:none;stroke:#008000;stroke-linecap:square;stroke-width:2;\"/>\n   </g>\n   <g id=\"patch_5\">\n    <path d=\"M 26.925 554.599219 \nL 26.925 10.999219 \n\" style=\"fill:none;stroke:#000000;stroke-linecap:square;stroke-linejoin:miter;stroke-width:0.8;\"/>\n   </g>\n   <g id=\"patch_6\">\n    <path d=\"M 570.525 554.599219 \nL 570.525 10.999219 \n\" style=\"fill:none;stroke:#000000;stroke-linecap:square;stroke-linejoin:miter;stroke-width:0.8;\"/>\n   </g>\n   <g id=\"patch_7\">\n    <path d=\"M 26.925 554.599219 \nL 570.525 554.599219 \n\" style=\"fill:none;stroke:#000000;stroke-linecap:square;stroke-linejoin:miter;stroke-width:0.8;\"/>\n   </g>\n   <g id=\"patch_8\">\n    <path d=\"M 26.925 10.999219 \nL 570.525 10.999219 \n\" style=\"fill:none;stroke:#000000;stroke-linecap:square;stroke-linejoin:miter;stroke-width:0.8;\"/>\n   </g>\n  </g>\n </g>\n <defs>\n  <clipPath id=\"p1fd200d1e4\">\n   <rect height=\"543.6\" width=\"543.6\" x=\"26.925\" y=\"10.999219\"/>\n  </clipPath>\n </defs>\n</svg>\n",
      "image/png": "[encoded data removed]"
     },
     "metadata": {
      "needs_background": "light"
     }
    }
   ],
   "source": [
    "# node_list.append( goal_node_final)\n",
    "if destination is None:\n",
    "    destination = goal_node\n",
    "    goal_node_final = goal_node\n",
    "nodes = visualize(viz, node_list, destination, goal_node, obs, False)"
   ]
  },
  {
   "cell_type": "code",
   "execution_count": 11,
   "metadata": {},
   "outputs": [
    {
     "output_type": "execute_result",
     "data": {
      "text/plain": [
       "False"
      ]
     },
     "metadata": {},
     "execution_count": 11
    }
   ],
   "source": [
    "isOnSpot(destination, goal_node)"
   ]
  },
  {
   "cell_type": "code",
   "execution_count": null,
   "metadata": {},
   "outputs": [],
   "source": [
    "goal_node_final.getState()"
   ]
  },
  {
   "cell_type": "code",
   "execution_count": null,
   "metadata": {},
   "outputs": [],
   "source": [
    "destination.getState()"
   ]
  },
  {
   "cell_type": "code",
   "execution_count": null,
   "metadata": {},
   "outputs": [],
   "source": []
  },
  {
   "cell_type": "code",
   "execution_count": null,
   "metadata": {},
   "outputs": [],
   "source": [
    "    fig, ax = plt.subplots(figsize = (10, 10))\n",
    "    ax.set(xlim=(0, 10), ylim = (0,10))\n",
    "    ax = viz.addObstacles2Map(ax)\n",
    "    ax.set_aspect(\"equal\")\n",
    "\n",
    "    i = 0\n",
    "    y = goal_node.getState()[1]\n",
    "    y_ = goal_node.getState()[1]\n",
    "    ax.scatter(goal_node.getState()[0], y)\n",
    "    theta = toRadian(goal_node.getState()[2])\n",
    "    while(i<10):\n",
    "        if goal_node.getState()[2] % 90 == 0:\n",
    "            x = goal_node.getState()[0]\n",
    "        else:\n",
    "            x = y/math.tan(theta)\n",
    "        i+=1\n",
    "        y+=0.1\n",
    "        y_-=0.1\n",
    "        ax.scatter(x,y)\n",
    "        ax.scatter(x,y_)\n"
   ]
  },
  {
   "cell_type": "code",
   "execution_count": null,
   "metadata": {},
   "outputs": [],
   "source": []
  },
  {
   "source": [
    "# Debugging 180 degree issue"
   ],
   "cell_type": "markdown",
   "metadata": {}
  },
  {
   "cell_type": "code",
   "execution_count": null,
   "metadata": {},
   "outputs": [],
   "source": [
    "height, width = 10, 10\n",
    "T = 0.5\n",
    "dt = 0.1\n",
    "threshold = 0.5\n",
    "rand_map = [width-1, height-1]\n",
    "start_point = [4,2,90,0]\n",
    "obs = Obstacle(0.0)\n",
    "viz = Visualization(obs)\n",
    "start_node = Node(start_point, None, None, 0, [])\n",
    "\n",
    "T = 1\n",
    "u_linear = 1\n",
    "u_steer1 = 0.5\n",
    "u_steer2 = 0.7"
   ]
  },
  {
   "cell_type": "code",
   "execution_count": null,
   "metadata": {},
   "outputs": [],
   "source": [
    "branches = getBranches(start_node, T, u_linear, u_steer1, u_steer2, obs)"
   ]
  },
  {
   "cell_type": "code",
   "execution_count": null,
   "metadata": {},
   "outputs": [],
   "source": [
    "fig, ax = plt.subplots(figsize = (10, 10))\n",
    "ax.set(xlim=(0, 10), ylim = (0,10))\n",
    "ax = viz.addObstacles2Map(ax)\n",
    "ax.set_aspect(\"equal\")\n",
    "for node in branches:\n",
    "    start_node  = node.getParent()\n",
    "    if start_node is not None:\n",
    "        xi, yi, _, _ = start_node.getState()\n",
    "        points = node.getPathArray()\n",
    "        if points is not None:\n",
    "            for point in points:\n",
    "                xn, yn = point\n",
    "                ax.plot([xi, xn], [yi, yn], color=\"blue\", linewidth = 0.3)\n",
    "                xi, yi = xn, yn"
   ]
  },
  {
   "cell_type": "code",
   "execution_count": null,
   "metadata": {},
   "outputs": [],
   "source": [
    "math.tan(1.50)"
   ]
  },
  {
   "cell_type": "code",
   "execution_count": null,
   "metadata": {},
   "outputs": [],
   "source": [
    "destination.getState()[2]"
   ]
  },
  {
   "cell_type": "code",
   "execution_count": null,
   "metadata": {},
   "outputs": [],
   "source": []
  },
  {
   "cell_type": "code",
   "execution_count": null,
   "metadata": {},
   "outputs": [],
   "source": [
    "# node_list.append( goal_node_final)\n",
    "if destination is None:\n",
    "    destination = goal_node\n",
    "    goal_node_final = goal_node\n",
    "nodes = visualize(viz, node_list, goal_node_final, goal_node, obs, False)"
   ]
  },
  {
   "cell_type": "code",
   "execution_count": null,
   "metadata": {},
   "outputs": [],
   "source": [
    "if destination is None:\n",
    "    destination = goal_node\n",
    "    goal_node_final = goal_node\n",
    "nodes = visualize(viz, node_list, goal_node_final, goal_node, obs, False)"
   ]
  },
  {
   "cell_type": "code",
   "execution_count": null,
   "metadata": {},
   "outputs": [],
   "source": []
  }
 ]
}